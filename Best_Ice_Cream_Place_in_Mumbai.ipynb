{
  "nbformat": 4,
  "nbformat_minor": 0,
  "metadata": {
    "colab": {
      "provenance": [],
      "authorship_tag": "ABX9TyOFbI9YqhtU+zZ7km2R/Cus",
      "include_colab_link": true
    },
    "kernelspec": {
      "name": "ir",
      "display_name": "R"
    },
    "language_info": {
      "name": "R"
    }
  },
  "cells": [
    {
      "cell_type": "markdown",
      "metadata": {
        "id": "view-in-github",
        "colab_type": "text"
      },
      "source": [
        "<a href=\"https://colab.research.google.com/github/Surya-0007/Determining-Best-Ice-Cream-place-in-Mumbai-using-Topsis-in-R/blob/main/Best_Ice_Cream_Place_in_Mumbai.ipynb\" target=\"_parent\"><img src=\"https://colab.research.google.com/assets/colab-badge.svg\" alt=\"Open In Colab\"/></a>"
      ]
    },
    {
      "cell_type": "code",
      "execution_count": 41,
      "metadata": {
        "id": "av2ETafKi_BT",
        "colab": {
          "base_uri": "https://localhost:8080/"
        },
        "outputId": "2034ceaf-a1a5-4408-e09a-b0fb04181bde"
      },
      "outputs": [
        {
          "output_type": "stream",
          "name": "stderr",
          "text": [
            "Installing package into ‘/usr/local/lib/R/site-library’\n",
            "(as ‘lib’ is unspecified)\n",
            "\n"
          ]
        }
      ],
      "source": [
        "install.packages('topsis')"
      ]
    },
    {
      "cell_type": "code",
      "source": [
        "library('topsis')\n",
        "mydata = read.csv('/content/Mumbai_restaurants.csv')\n",
        "head(mydata)"
      ],
      "metadata": {
        "colab": {
          "base_uri": "https://localhost:8080/",
          "height": 286
        },
        "id": "liQ5sXqOrQgT",
        "outputId": "0ccd8b6a-907f-4463-93d0-0ccfaf58726a"
      },
      "execution_count": 42,
      "outputs": [
        {
          "output_type": "display_data",
          "data": {
            "text/html": [
              "<table class=\"dataframe\">\n",
              "<caption>A data.frame: 6 × 7</caption>\n",
              "<thead>\n",
              "\t<tr><th></th><th scope=col>X</th><th scope=col>Name</th><th scope=col>Rating</th><th scope=col>Specials</th><th scope=col>Delivery.time</th><th scope=col>Cost</th><th scope=col>Coupons</th></tr>\n",
              "\t<tr><th></th><th scope=col>&lt;int&gt;</th><th scope=col>&lt;chr&gt;</th><th scope=col>&lt;dbl&gt;</th><th scope=col>&lt;chr&gt;</th><th scope=col>&lt;chr&gt;</th><th scope=col>&lt;chr&gt;</th><th scope=col>&lt;chr&gt;</th></tr>\n",
              "</thead>\n",
              "<tbody>\n",
              "\t<tr><th scope=row>1</th><td>0</td><td>Huber And Holly                </td><td>5.0</td><td>Ice Cream, Desserts            </td><td>61 MINS</td><td>₹200 FOR TWO</td><td>50% off | Use WELCOME50</td></tr>\n",
              "\t<tr><th scope=row>2</th><td>1</td><td>Apna Food Court                </td><td>5.0</td><td>Chinese, Continental           </td><td>45 MINS</td><td>₹450 FOR TWO</td><td>50% off | Use WELCOME50</td></tr>\n",
              "\t<tr><th scope=row>3</th><td>2</td><td>abCoffee                       </td><td>5.0</td><td>Beverages, Bakery              </td><td>41 MINS</td><td>₹200 FOR TWO</td><td>50% off | Use WELCOME50</td></tr>\n",
              "\t<tr><th scope=row>4</th><td>3</td><td>OG Juices - Cold Pressed Juices</td><td>4.9</td><td>Juices                         </td><td>63 MINS</td><td>₹200 FOR TWO</td><td>50% off | Use WELCOME50</td></tr>\n",
              "\t<tr><th scope=row>5</th><td>4</td><td>Spicy Mango                    </td><td>4.9</td><td>South Indian, Sri Lankan, Asian</td><td>63 MINS</td><td>₹400 FOR TWO</td><td>50% off | Use WELCOME50</td></tr>\n",
              "\t<tr><th scope=row>6</th><td>5</td><td>KO Fried Chicken               </td><td>4.9</td><td>Fast Food, Snacks, Burgers     </td><td>57 MINS</td><td>₹200 FOR TWO</td><td>60% off | Use TRYNEW   </td></tr>\n",
              "</tbody>\n",
              "</table>\n"
            ],
            "text/markdown": "\nA data.frame: 6 × 7\n\n| <!--/--> | X &lt;int&gt; | Name &lt;chr&gt; | Rating &lt;dbl&gt; | Specials &lt;chr&gt; | Delivery.time &lt;chr&gt; | Cost &lt;chr&gt; | Coupons &lt;chr&gt; |\n|---|---|---|---|---|---|---|---|\n| 1 | 0 | Huber And Holly                 | 5.0 | Ice Cream, Desserts             | 61 MINS | ₹200 FOR TWO | 50% off | Use WELCOME50 |\n| 2 | 1 | Apna Food Court                 | 5.0 | Chinese, Continental            | 45 MINS | ₹450 FOR TWO | 50% off | Use WELCOME50 |\n| 3 | 2 | abCoffee                        | 5.0 | Beverages, Bakery               | 41 MINS | ₹200 FOR TWO | 50% off | Use WELCOME50 |\n| 4 | 3 | OG Juices - Cold Pressed Juices | 4.9 | Juices                          | 63 MINS | ₹200 FOR TWO | 50% off | Use WELCOME50 |\n| 5 | 4 | Spicy Mango                     | 4.9 | South Indian, Sri Lankan, Asian | 63 MINS | ₹400 FOR TWO | 50% off | Use WELCOME50 |\n| 6 | 5 | KO Fried Chicken                | 4.9 | Fast Food, Snacks, Burgers      | 57 MINS | ₹200 FOR TWO | 60% off | Use TRYNEW    |\n\n",
            "text/latex": "A data.frame: 6 × 7\n\\begin{tabular}{r|lllllll}\n  & X & Name & Rating & Specials & Delivery.time & Cost & Coupons\\\\\n  & <int> & <chr> & <dbl> & <chr> & <chr> & <chr> & <chr>\\\\\n\\hline\n\t1 & 0 & Huber And Holly                 & 5.0 & Ice Cream, Desserts             & 61 MINS & ₹200 FOR TWO & 50\\% off \\textbar{} Use WELCOME50\\\\\n\t2 & 1 & Apna Food Court                 & 5.0 & Chinese, Continental            & 45 MINS & ₹450 FOR TWO & 50\\% off \\textbar{} Use WELCOME50\\\\\n\t3 & 2 & abCoffee                        & 5.0 & Beverages, Bakery               & 41 MINS & ₹200 FOR TWO & 50\\% off \\textbar{} Use WELCOME50\\\\\n\t4 & 3 & OG Juices - Cold Pressed Juices & 4.9 & Juices                          & 63 MINS & ₹200 FOR TWO & 50\\% off \\textbar{} Use WELCOME50\\\\\n\t5 & 4 & Spicy Mango                     & 4.9 & South Indian, Sri Lankan, Asian & 63 MINS & ₹400 FOR TWO & 50\\% off \\textbar{} Use WELCOME50\\\\\n\t6 & 5 & KO Fried Chicken                & 4.9 & Fast Food, Snacks, Burgers      & 57 MINS & ₹200 FOR TWO & 60\\% off \\textbar{} Use TRYNEW   \\\\\n\\end{tabular}\n",
            "text/plain": [
              "  X Name                            Rating Specials                       \n",
              "1 0 Huber And Holly                 5.0    Ice Cream, Desserts            \n",
              "2 1 Apna Food Court                 5.0    Chinese, Continental           \n",
              "3 2 abCoffee                        5.0    Beverages, Bakery              \n",
              "4 3 OG Juices - Cold Pressed Juices 4.9    Juices                         \n",
              "5 4 Spicy Mango                     4.9    South Indian, Sri Lankan, Asian\n",
              "6 5 KO Fried Chicken                4.9    Fast Food, Snacks, Burgers     \n",
              "  Delivery.time Cost         Coupons                \n",
              "1 61 MINS       ₹200 FOR TWO 50% off | Use WELCOME50\n",
              "2 45 MINS       ₹450 FOR TWO 50% off | Use WELCOME50\n",
              "3 41 MINS       ₹200 FOR TWO 50% off | Use WELCOME50\n",
              "4 63 MINS       ₹200 FOR TWO 50% off | Use WELCOME50\n",
              "5 63 MINS       ₹400 FOR TWO 50% off | Use WELCOME50\n",
              "6 57 MINS       ₹200 FOR TWO 60% off | Use TRYNEW   "
            ]
          },
          "metadata": {}
        }
      ]
    },
    {
      "cell_type": "code",
      "source": [
        "library(stringr) #used for string manipulations\n",
        "\n",
        "# Extracting the numeric part by Spliting the Delivery.time column\n",
        "mydata$Delivery.time <- as.integer(str_extract(mydata$Delivery.time, \"\\\\d+\"))\n",
        "\n",
        "head(mydata)\n"
      ],
      "metadata": {
        "colab": {
          "base_uri": "https://localhost:8080/",
          "height": 286
        },
        "id": "Mv2PU6_pywaZ",
        "outputId": "d11a4d0a-c1a0-430b-e687-c4250f57039b"
      },
      "execution_count": 43,
      "outputs": [
        {
          "output_type": "display_data",
          "data": {
            "text/html": [
              "<table class=\"dataframe\">\n",
              "<caption>A data.frame: 6 × 7</caption>\n",
              "<thead>\n",
              "\t<tr><th></th><th scope=col>X</th><th scope=col>Name</th><th scope=col>Rating</th><th scope=col>Specials</th><th scope=col>Delivery.time</th><th scope=col>Cost</th><th scope=col>Coupons</th></tr>\n",
              "\t<tr><th></th><th scope=col>&lt;int&gt;</th><th scope=col>&lt;chr&gt;</th><th scope=col>&lt;dbl&gt;</th><th scope=col>&lt;chr&gt;</th><th scope=col>&lt;int&gt;</th><th scope=col>&lt;chr&gt;</th><th scope=col>&lt;chr&gt;</th></tr>\n",
              "</thead>\n",
              "<tbody>\n",
              "\t<tr><th scope=row>1</th><td>0</td><td>Huber And Holly                </td><td>5.0</td><td>Ice Cream, Desserts            </td><td>61</td><td>₹200 FOR TWO</td><td>50% off | Use WELCOME50</td></tr>\n",
              "\t<tr><th scope=row>2</th><td>1</td><td>Apna Food Court                </td><td>5.0</td><td>Chinese, Continental           </td><td>45</td><td>₹450 FOR TWO</td><td>50% off | Use WELCOME50</td></tr>\n",
              "\t<tr><th scope=row>3</th><td>2</td><td>abCoffee                       </td><td>5.0</td><td>Beverages, Bakery              </td><td>41</td><td>₹200 FOR TWO</td><td>50% off | Use WELCOME50</td></tr>\n",
              "\t<tr><th scope=row>4</th><td>3</td><td>OG Juices - Cold Pressed Juices</td><td>4.9</td><td>Juices                         </td><td>63</td><td>₹200 FOR TWO</td><td>50% off | Use WELCOME50</td></tr>\n",
              "\t<tr><th scope=row>5</th><td>4</td><td>Spicy Mango                    </td><td>4.9</td><td>South Indian, Sri Lankan, Asian</td><td>63</td><td>₹400 FOR TWO</td><td>50% off | Use WELCOME50</td></tr>\n",
              "\t<tr><th scope=row>6</th><td>5</td><td>KO Fried Chicken               </td><td>4.9</td><td>Fast Food, Snacks, Burgers     </td><td>57</td><td>₹200 FOR TWO</td><td>60% off | Use TRYNEW   </td></tr>\n",
              "</tbody>\n",
              "</table>\n"
            ],
            "text/markdown": "\nA data.frame: 6 × 7\n\n| <!--/--> | X &lt;int&gt; | Name &lt;chr&gt; | Rating &lt;dbl&gt; | Specials &lt;chr&gt; | Delivery.time &lt;int&gt; | Cost &lt;chr&gt; | Coupons &lt;chr&gt; |\n|---|---|---|---|---|---|---|---|\n| 1 | 0 | Huber And Holly                 | 5.0 | Ice Cream, Desserts             | 61 | ₹200 FOR TWO | 50% off | Use WELCOME50 |\n| 2 | 1 | Apna Food Court                 | 5.0 | Chinese, Continental            | 45 | ₹450 FOR TWO | 50% off | Use WELCOME50 |\n| 3 | 2 | abCoffee                        | 5.0 | Beverages, Bakery               | 41 | ₹200 FOR TWO | 50% off | Use WELCOME50 |\n| 4 | 3 | OG Juices - Cold Pressed Juices | 4.9 | Juices                          | 63 | ₹200 FOR TWO | 50% off | Use WELCOME50 |\n| 5 | 4 | Spicy Mango                     | 4.9 | South Indian, Sri Lankan, Asian | 63 | ₹400 FOR TWO | 50% off | Use WELCOME50 |\n| 6 | 5 | KO Fried Chicken                | 4.9 | Fast Food, Snacks, Burgers      | 57 | ₹200 FOR TWO | 60% off | Use TRYNEW    |\n\n",
            "text/latex": "A data.frame: 6 × 7\n\\begin{tabular}{r|lllllll}\n  & X & Name & Rating & Specials & Delivery.time & Cost & Coupons\\\\\n  & <int> & <chr> & <dbl> & <chr> & <int> & <chr> & <chr>\\\\\n\\hline\n\t1 & 0 & Huber And Holly                 & 5.0 & Ice Cream, Desserts             & 61 & ₹200 FOR TWO & 50\\% off \\textbar{} Use WELCOME50\\\\\n\t2 & 1 & Apna Food Court                 & 5.0 & Chinese, Continental            & 45 & ₹450 FOR TWO & 50\\% off \\textbar{} Use WELCOME50\\\\\n\t3 & 2 & abCoffee                        & 5.0 & Beverages, Bakery               & 41 & ₹200 FOR TWO & 50\\% off \\textbar{} Use WELCOME50\\\\\n\t4 & 3 & OG Juices - Cold Pressed Juices & 4.9 & Juices                          & 63 & ₹200 FOR TWO & 50\\% off \\textbar{} Use WELCOME50\\\\\n\t5 & 4 & Spicy Mango                     & 4.9 & South Indian, Sri Lankan, Asian & 63 & ₹400 FOR TWO & 50\\% off \\textbar{} Use WELCOME50\\\\\n\t6 & 5 & KO Fried Chicken                & 4.9 & Fast Food, Snacks, Burgers      & 57 & ₹200 FOR TWO & 60\\% off \\textbar{} Use TRYNEW   \\\\\n\\end{tabular}\n",
            "text/plain": [
              "  X Name                            Rating Specials                       \n",
              "1 0 Huber And Holly                 5.0    Ice Cream, Desserts            \n",
              "2 1 Apna Food Court                 5.0    Chinese, Continental           \n",
              "3 2 abCoffee                        5.0    Beverages, Bakery              \n",
              "4 3 OG Juices - Cold Pressed Juices 4.9    Juices                         \n",
              "5 4 Spicy Mango                     4.9    South Indian, Sri Lankan, Asian\n",
              "6 5 KO Fried Chicken                4.9    Fast Food, Snacks, Burgers     \n",
              "  Delivery.time Cost         Coupons                \n",
              "1 61            ₹200 FOR TWO 50% off | Use WELCOME50\n",
              "2 45            ₹450 FOR TWO 50% off | Use WELCOME50\n",
              "3 41            ₹200 FOR TWO 50% off | Use WELCOME50\n",
              "4 63            ₹200 FOR TWO 50% off | Use WELCOME50\n",
              "5 63            ₹400 FOR TWO 50% off | Use WELCOME50\n",
              "6 57            ₹200 FOR TWO 60% off | Use TRYNEW   "
            ]
          },
          "metadata": {}
        }
      ]
    },
    {
      "cell_type": "code",
      "source": [
        "mydata$Coupons <- as.integer(str_extract(mydata$Coupons, \"\\\\d+\"))\n",
        "head(mydata)"
      ],
      "metadata": {
        "colab": {
          "base_uri": "https://localhost:8080/",
          "height": 286
        },
        "id": "5r2WNHGezXnD",
        "outputId": "abee736b-8430-4f9a-8c9c-0a6ad619e242"
      },
      "execution_count": 44,
      "outputs": [
        {
          "output_type": "display_data",
          "data": {
            "text/html": [
              "<table class=\"dataframe\">\n",
              "<caption>A data.frame: 6 × 7</caption>\n",
              "<thead>\n",
              "\t<tr><th></th><th scope=col>X</th><th scope=col>Name</th><th scope=col>Rating</th><th scope=col>Specials</th><th scope=col>Delivery.time</th><th scope=col>Cost</th><th scope=col>Coupons</th></tr>\n",
              "\t<tr><th></th><th scope=col>&lt;int&gt;</th><th scope=col>&lt;chr&gt;</th><th scope=col>&lt;dbl&gt;</th><th scope=col>&lt;chr&gt;</th><th scope=col>&lt;int&gt;</th><th scope=col>&lt;chr&gt;</th><th scope=col>&lt;int&gt;</th></tr>\n",
              "</thead>\n",
              "<tbody>\n",
              "\t<tr><th scope=row>1</th><td>0</td><td>Huber And Holly                </td><td>5.0</td><td>Ice Cream, Desserts            </td><td>61</td><td>₹200 FOR TWO</td><td>50</td></tr>\n",
              "\t<tr><th scope=row>2</th><td>1</td><td>Apna Food Court                </td><td>5.0</td><td>Chinese, Continental           </td><td>45</td><td>₹450 FOR TWO</td><td>50</td></tr>\n",
              "\t<tr><th scope=row>3</th><td>2</td><td>abCoffee                       </td><td>5.0</td><td>Beverages, Bakery              </td><td>41</td><td>₹200 FOR TWO</td><td>50</td></tr>\n",
              "\t<tr><th scope=row>4</th><td>3</td><td>OG Juices - Cold Pressed Juices</td><td>4.9</td><td>Juices                         </td><td>63</td><td>₹200 FOR TWO</td><td>50</td></tr>\n",
              "\t<tr><th scope=row>5</th><td>4</td><td>Spicy Mango                    </td><td>4.9</td><td>South Indian, Sri Lankan, Asian</td><td>63</td><td>₹400 FOR TWO</td><td>50</td></tr>\n",
              "\t<tr><th scope=row>6</th><td>5</td><td>KO Fried Chicken               </td><td>4.9</td><td>Fast Food, Snacks, Burgers     </td><td>57</td><td>₹200 FOR TWO</td><td>60</td></tr>\n",
              "</tbody>\n",
              "</table>\n"
            ],
            "text/markdown": "\nA data.frame: 6 × 7\n\n| <!--/--> | X &lt;int&gt; | Name &lt;chr&gt; | Rating &lt;dbl&gt; | Specials &lt;chr&gt; | Delivery.time &lt;int&gt; | Cost &lt;chr&gt; | Coupons &lt;int&gt; |\n|---|---|---|---|---|---|---|---|\n| 1 | 0 | Huber And Holly                 | 5.0 | Ice Cream, Desserts             | 61 | ₹200 FOR TWO | 50 |\n| 2 | 1 | Apna Food Court                 | 5.0 | Chinese, Continental            | 45 | ₹450 FOR TWO | 50 |\n| 3 | 2 | abCoffee                        | 5.0 | Beverages, Bakery               | 41 | ₹200 FOR TWO | 50 |\n| 4 | 3 | OG Juices - Cold Pressed Juices | 4.9 | Juices                          | 63 | ₹200 FOR TWO | 50 |\n| 5 | 4 | Spicy Mango                     | 4.9 | South Indian, Sri Lankan, Asian | 63 | ₹400 FOR TWO | 50 |\n| 6 | 5 | KO Fried Chicken                | 4.9 | Fast Food, Snacks, Burgers      | 57 | ₹200 FOR TWO | 60 |\n\n",
            "text/latex": "A data.frame: 6 × 7\n\\begin{tabular}{r|lllllll}\n  & X & Name & Rating & Specials & Delivery.time & Cost & Coupons\\\\\n  & <int> & <chr> & <dbl> & <chr> & <int> & <chr> & <int>\\\\\n\\hline\n\t1 & 0 & Huber And Holly                 & 5.0 & Ice Cream, Desserts             & 61 & ₹200 FOR TWO & 50\\\\\n\t2 & 1 & Apna Food Court                 & 5.0 & Chinese, Continental            & 45 & ₹450 FOR TWO & 50\\\\\n\t3 & 2 & abCoffee                        & 5.0 & Beverages, Bakery               & 41 & ₹200 FOR TWO & 50\\\\\n\t4 & 3 & OG Juices - Cold Pressed Juices & 4.9 & Juices                          & 63 & ₹200 FOR TWO & 50\\\\\n\t5 & 4 & Spicy Mango                     & 4.9 & South Indian, Sri Lankan, Asian & 63 & ₹400 FOR TWO & 50\\\\\n\t6 & 5 & KO Fried Chicken                & 4.9 & Fast Food, Snacks, Burgers      & 57 & ₹200 FOR TWO & 60\\\\\n\\end{tabular}\n",
            "text/plain": [
              "  X Name                            Rating Specials                       \n",
              "1 0 Huber And Holly                 5.0    Ice Cream, Desserts            \n",
              "2 1 Apna Food Court                 5.0    Chinese, Continental           \n",
              "3 2 abCoffee                        5.0    Beverages, Bakery              \n",
              "4 3 OG Juices - Cold Pressed Juices 4.9    Juices                         \n",
              "5 4 Spicy Mango                     4.9    South Indian, Sri Lankan, Asian\n",
              "6 5 KO Fried Chicken                4.9    Fast Food, Snacks, Burgers     \n",
              "  Delivery.time Cost         Coupons\n",
              "1 61            ₹200 FOR TWO 50     \n",
              "2 45            ₹450 FOR TWO 50     \n",
              "3 41            ₹200 FOR TWO 50     \n",
              "4 63            ₹200 FOR TWO 50     \n",
              "5 63            ₹400 FOR TWO 50     \n",
              "6 57            ₹200 FOR TWO 60     "
            ]
          },
          "metadata": {}
        }
      ]
    },
    {
      "cell_type": "code",
      "source": [
        "mydata$Cost <- as.integer(str_extract(mydata$Cost, \"\\\\d+\"))\n",
        "head(mydata)"
      ],
      "metadata": {
        "colab": {
          "base_uri": "https://localhost:8080/",
          "height": 286
        },
        "id": "_frY_o6yztpb",
        "outputId": "6038525d-75dd-4e4d-bf62-55c977e4a641"
      },
      "execution_count": 45,
      "outputs": [
        {
          "output_type": "display_data",
          "data": {
            "text/html": [
              "<table class=\"dataframe\">\n",
              "<caption>A data.frame: 6 × 7</caption>\n",
              "<thead>\n",
              "\t<tr><th></th><th scope=col>X</th><th scope=col>Name</th><th scope=col>Rating</th><th scope=col>Specials</th><th scope=col>Delivery.time</th><th scope=col>Cost</th><th scope=col>Coupons</th></tr>\n",
              "\t<tr><th></th><th scope=col>&lt;int&gt;</th><th scope=col>&lt;chr&gt;</th><th scope=col>&lt;dbl&gt;</th><th scope=col>&lt;chr&gt;</th><th scope=col>&lt;int&gt;</th><th scope=col>&lt;int&gt;</th><th scope=col>&lt;int&gt;</th></tr>\n",
              "</thead>\n",
              "<tbody>\n",
              "\t<tr><th scope=row>1</th><td>0</td><td>Huber And Holly                </td><td>5.0</td><td>Ice Cream, Desserts            </td><td>61</td><td>200</td><td>50</td></tr>\n",
              "\t<tr><th scope=row>2</th><td>1</td><td>Apna Food Court                </td><td>5.0</td><td>Chinese, Continental           </td><td>45</td><td>450</td><td>50</td></tr>\n",
              "\t<tr><th scope=row>3</th><td>2</td><td>abCoffee                       </td><td>5.0</td><td>Beverages, Bakery              </td><td>41</td><td>200</td><td>50</td></tr>\n",
              "\t<tr><th scope=row>4</th><td>3</td><td>OG Juices - Cold Pressed Juices</td><td>4.9</td><td>Juices                         </td><td>63</td><td>200</td><td>50</td></tr>\n",
              "\t<tr><th scope=row>5</th><td>4</td><td>Spicy Mango                    </td><td>4.9</td><td>South Indian, Sri Lankan, Asian</td><td>63</td><td>400</td><td>50</td></tr>\n",
              "\t<tr><th scope=row>6</th><td>5</td><td>KO Fried Chicken               </td><td>4.9</td><td>Fast Food, Snacks, Burgers     </td><td>57</td><td>200</td><td>60</td></tr>\n",
              "</tbody>\n",
              "</table>\n"
            ],
            "text/markdown": "\nA data.frame: 6 × 7\n\n| <!--/--> | X &lt;int&gt; | Name &lt;chr&gt; | Rating &lt;dbl&gt; | Specials &lt;chr&gt; | Delivery.time &lt;int&gt; | Cost &lt;int&gt; | Coupons &lt;int&gt; |\n|---|---|---|---|---|---|---|---|\n| 1 | 0 | Huber And Holly                 | 5.0 | Ice Cream, Desserts             | 61 | 200 | 50 |\n| 2 | 1 | Apna Food Court                 | 5.0 | Chinese, Continental            | 45 | 450 | 50 |\n| 3 | 2 | abCoffee                        | 5.0 | Beverages, Bakery               | 41 | 200 | 50 |\n| 4 | 3 | OG Juices - Cold Pressed Juices | 4.9 | Juices                          | 63 | 200 | 50 |\n| 5 | 4 | Spicy Mango                     | 4.9 | South Indian, Sri Lankan, Asian | 63 | 400 | 50 |\n| 6 | 5 | KO Fried Chicken                | 4.9 | Fast Food, Snacks, Burgers      | 57 | 200 | 60 |\n\n",
            "text/latex": "A data.frame: 6 × 7\n\\begin{tabular}{r|lllllll}\n  & X & Name & Rating & Specials & Delivery.time & Cost & Coupons\\\\\n  & <int> & <chr> & <dbl> & <chr> & <int> & <int> & <int>\\\\\n\\hline\n\t1 & 0 & Huber And Holly                 & 5.0 & Ice Cream, Desserts             & 61 & 200 & 50\\\\\n\t2 & 1 & Apna Food Court                 & 5.0 & Chinese, Continental            & 45 & 450 & 50\\\\\n\t3 & 2 & abCoffee                        & 5.0 & Beverages, Bakery               & 41 & 200 & 50\\\\\n\t4 & 3 & OG Juices - Cold Pressed Juices & 4.9 & Juices                          & 63 & 200 & 50\\\\\n\t5 & 4 & Spicy Mango                     & 4.9 & South Indian, Sri Lankan, Asian & 63 & 400 & 50\\\\\n\t6 & 5 & KO Fried Chicken                & 4.9 & Fast Food, Snacks, Burgers      & 57 & 200 & 60\\\\\n\\end{tabular}\n",
            "text/plain": [
              "  X Name                            Rating Specials                       \n",
              "1 0 Huber And Holly                 5.0    Ice Cream, Desserts            \n",
              "2 1 Apna Food Court                 5.0    Chinese, Continental           \n",
              "3 2 abCoffee                        5.0    Beverages, Bakery              \n",
              "4 3 OG Juices - Cold Pressed Juices 4.9    Juices                         \n",
              "5 4 Spicy Mango                     4.9    South Indian, Sri Lankan, Asian\n",
              "6 5 KO Fried Chicken                4.9    Fast Food, Snacks, Burgers     \n",
              "  Delivery.time Cost Coupons\n",
              "1 61            200  50     \n",
              "2 45            450  50     \n",
              "3 41            200  50     \n",
              "4 63            200  50     \n",
              "5 63            400  50     \n",
              "6 57            200  60     "
            ]
          },
          "metadata": {}
        }
      ]
    },
    {
      "cell_type": "code",
      "source": [
        "# Filtering rows based on the \"Specials\" column, considering only those which has Ice Cream as a Specials item\n",
        "mydata <- mydata[grepl(\"ice cream\", mydata$Specials, ignore.case = TRUE), ]\n",
        "mydata"
      ],
      "metadata": {
        "colab": {
          "base_uri": "https://localhost:8080/",
          "height": 1000
        },
        "id": "mI3j0nqCLtpz",
        "outputId": "c5246a8e-122a-4ea8-c956-d510f9edd2b0"
      },
      "execution_count": 46,
      "outputs": [
        {
          "output_type": "display_data",
          "data": {
            "text/html": [
              "<table class=\"dataframe\">\n",
              "<caption>A data.frame: 35 × 7</caption>\n",
              "<thead>\n",
              "\t<tr><th></th><th scope=col>X</th><th scope=col>Name</th><th scope=col>Rating</th><th scope=col>Specials</th><th scope=col>Delivery.time</th><th scope=col>Cost</th><th scope=col>Coupons</th></tr>\n",
              "\t<tr><th></th><th scope=col>&lt;int&gt;</th><th scope=col>&lt;chr&gt;</th><th scope=col>&lt;dbl&gt;</th><th scope=col>&lt;chr&gt;</th><th scope=col>&lt;int&gt;</th><th scope=col>&lt;int&gt;</th><th scope=col>&lt;int&gt;</th></tr>\n",
              "</thead>\n",
              "<tbody>\n",
              "\t<tr><th scope=row>1</th><td>  0</td><td>Huber And Holly                                </td><td>5.0</td><td>Ice Cream, Desserts                                                                </td><td>61</td><td>200</td><td>50</td></tr>\n",
              "\t<tr><th scope=row>7</th><td>  6</td><td>london dairy                                   </td><td>4.9</td><td>Desserts, Ice Cream                                                                </td><td>51</td><td>280</td><td>50</td></tr>\n",
              "\t<tr><th scope=row>13</th><td> 12</td><td>Ice Cream Works                                </td><td>4.8</td><td>Ice Cream, Desserts                                                                </td><td>56</td><td>300</td><td>50</td></tr>\n",
              "\t<tr><th scope=row>24</th><td> 23</td><td>Moussestruck                                   </td><td>4.8</td><td>Ice Cream, Desserts, Sweets                                                        </td><td>39</td><td>150</td><td>50</td></tr>\n",
              "\t<tr><th scope=row>43</th><td> 42</td><td>Kwality Walls Frozen Dessert and Ice Cream Shop</td><td>4.7</td><td>Desserts, Ice Cream, Ice Cream Cakes                                               </td><td>35</td><td>100</td><td>50</td></tr>\n",
              "\t<tr><th scope=row>64</th><td> 63</td><td>Giani's                                        </td><td>4.6</td><td>Ice Cream, Ice Cream Cakes, Beverages, Desserts                                    </td><td>38</td><td>250</td><td>15</td></tr>\n",
              "\t<tr><th scope=row>67</th><td> 66</td><td>Keventers Ice Cream                            </td><td>4.6</td><td>Ice Cream, Desserts                                                                </td><td>31</td><td>300</td><td>50</td></tr>\n",
              "\t<tr><th scope=row>68</th><td> 67</td><td>Gourmet Ice Cream Cakes by Baskin Robbins      </td><td>4.6</td><td>Desserts, Ice Cream, Bakery                                                        </td><td>35</td><td>250</td><td>50</td></tr>\n",
              "\t<tr><th scope=row>69</th><td> 68</td><td>Apsara Ice Creams                              </td><td>4.6</td><td>Ice Cream, Desserts                                                                </td><td>28</td><td>150</td><td>50</td></tr>\n",
              "\t<tr><th scope=row>73</th><td> 72</td><td>Amul Ice Cream Parlour                         </td><td>4.5</td><td>Ice Cream, Desserts                                                                </td><td>50</td><td>200</td><td>50</td></tr>\n",
              "\t<tr><th scope=row>90</th><td> 89</td><td>The Belgian Waffle Co.                         </td><td>4.5</td><td>Waffle, Desserts, Ice Cream                                                        </td><td>48</td><td>200</td><td>20</td></tr>\n",
              "\t<tr><th scope=row>97</th><td> 96</td><td>Grameen Kulfi                                  </td><td>4.5</td><td>Ice Cream, Desserts                                                                </td><td>35</td><td>120</td><td>50</td></tr>\n",
              "\t<tr><th scope=row>98</th><td> 97</td><td>The Brooklyn Creamery - Healthy Ice Cream      </td><td>4.5</td><td>Desserts, Ice Cream                                                                </td><td>34</td><td>200</td><td>50</td></tr>\n",
              "\t<tr><th scope=row>101</th><td>100</td><td>NIC Natural Ice Creams                         </td><td>4.5</td><td>Ice Cream, Desserts                                                                </td><td>35</td><td>120</td><td>50</td></tr>\n",
              "\t<tr><th scope=row>103</th><td>102</td><td>Made of Milk                                   </td><td>4.5</td><td>Sweets, Ice Cream, Beverages                                                       </td><td>39</td><td>350</td><td>50</td></tr>\n",
              "\t<tr><th scope=row>120</th><td>119</td><td><span style=white-space:pre-wrap>Oasiss Cakes &amp; IceCreams                       </span></td><td>4.4</td><td><span style=white-space:pre-wrap>Ice Cream, Desserts, Bakery                                                        </span></td><td>46</td><td>150</td><td>50</td></tr>\n",
              "\t<tr><th scope=row>123</th><td>122</td><td>Tender Fresh                                   </td><td>4.4</td><td>Ice Cream, Beverages                                                               </td><td>57</td><td>150</td><td>50</td></tr>\n",
              "\t<tr><th scope=row>153</th><td>152</td><td>NOTO - Healthy Ice Cream                       </td><td>4.4</td><td>Ice Cream, Healthy Food                                                            </td><td>36</td><td>300</td><td>50</td></tr>\n",
              "\t<tr><th scope=row>173</th><td>172</td><td>Myfroyoland                                    </td><td>4.4</td><td>Desserts, Ice Cream, Keto                                                          </td><td>35</td><td>400</td><td>50</td></tr>\n",
              "\t<tr><th scope=row>183</th><td>182</td><td>Baskin Robbins                                 </td><td>4.4</td><td>Desserts, Ice Cream                                                                </td><td>31</td><td>250</td><td>50</td></tr>\n",
              "\t<tr><th scope=row>218</th><td>217</td><td>Alice in Gelatoland                            </td><td>4.3</td><td>Desserts, Ice Cream, Beverages                                                     </td><td>49</td><td>200</td><td>50</td></tr>\n",
              "\t<tr><th scope=row>259</th><td>258</td><td>Starbucks Coffee                               </td><td>4.3</td><td>Beverages, Ice Cream                                                               </td><td>35</td><td>400</td><td>40</td></tr>\n",
              "\t<tr><th scope=row>264</th><td>263</td><td>JOSHH - India Ka Apna Taste                    </td><td>4.3</td><td>Indian, North Indian, South Indian, Thalis, Ice Cream, Snacks, Street Food, Chaa...</td><td>38</td><td>200</td><td>50</td></tr>\n",
              "\t<tr><th scope=row>289</th><td>288</td><td>Keventerss The Beverages                       </td><td>4.2</td><td>Beverages, Desserts, Ice Cream                                                     </td><td>55</td><td>300</td><td>50</td></tr>\n",
              "\t<tr><th scope=row>290</th><td>289</td><td><span style=white-space:pre-wrap>Cremeborne - Ice Creams &amp; dessert              </span></td><td>4.2</td><td><span style=white-space:pre-wrap>Ice Cream, Beverages                                                               </span></td><td>51</td><td>300</td><td>50</td></tr>\n",
              "\t<tr><th scope=row>292</th><td>291</td><td>Havmour Ice Cream                              </td><td>4.2</td><td>Ice Cream                                                                          </td><td>48</td><td>150</td><td>50</td></tr>\n",
              "\t<tr><th scope=row>301</th><td>300</td><td>Caro-Sooper                                    </td><td>4.2</td><td>Ice Cream                                                                          </td><td>43</td><td>400</td><td>60</td></tr>\n",
              "\t<tr><th scope=row>306</th><td>305</td><td>Bangalore Iyangar's Bakery                     </td><td>4.2</td><td>Desserts, Bakery, Sweets, Ice Cream                                                </td><td>44</td><td>300</td><td>50</td></tr>\n",
              "\t<tr><th scope=row>311</th><td>310</td><td>A 1 Ice Creams                                 </td><td>4.2</td><td>Desserts, Ice Cream                                                                </td><td>43</td><td>200</td><td>50</td></tr>\n",
              "\t<tr><th scope=row>326</th><td>325</td><td>Keventerss The Beverages                       </td><td>4.2</td><td>Beverages, Desserts, Ice Cream                                                     </td><td>55</td><td>300</td><td>50</td></tr>\n",
              "\t<tr><th scope=row>327</th><td>326</td><td><span style=white-space:pre-wrap>Cremeborne - Ice Creams &amp; dessert              </span></td><td>4.2</td><td><span style=white-space:pre-wrap>Ice Cream, Beverages                                                               </span></td><td>51</td><td>300</td><td>50</td></tr>\n",
              "\t<tr><th scope=row>329</th><td>328</td><td>Havmour Ice Cream                              </td><td>4.2</td><td>Ice Cream                                                                          </td><td>48</td><td>150</td><td>50</td></tr>\n",
              "\t<tr><th scope=row>363</th><td>362</td><td>BEST BELGIAN WAFFLE                            </td><td>4.1</td><td>Indian, Desserts, Ice Cream, Bakery                                                </td><td>55</td><td>300</td><td>50</td></tr>\n",
              "\t<tr><th scope=row>377</th><td>376</td><td><span style=white-space:pre-wrap>Huber &amp; Holly                                  </span></td><td>4.1</td><td><span style=white-space:pre-wrap>Desserts, Ice Cream                                                                </span></td><td>47</td><td>200</td><td>50</td></tr>\n",
              "\t<tr><th scope=row>454</th><td>453</td><td>The Sugar Free Keto Kafe - By Artinci          </td><td>4.0</td><td>Healthy Food, Snacks, Keto, Bakery, Desserts, Beverages, Ice Cream                 </td><td>38</td><td>200</td><td>50</td></tr>\n",
              "</tbody>\n",
              "</table>\n"
            ],
            "text/markdown": "\nA data.frame: 35 × 7\n\n| <!--/--> | X &lt;int&gt; | Name &lt;chr&gt; | Rating &lt;dbl&gt; | Specials &lt;chr&gt; | Delivery.time &lt;int&gt; | Cost &lt;int&gt; | Coupons &lt;int&gt; |\n|---|---|---|---|---|---|---|---|\n| 1 |   0 | Huber And Holly                                 | 5.0 | Ice Cream, Desserts                                                                 | 61 | 200 | 50 |\n| 7 |   6 | london dairy                                    | 4.9 | Desserts, Ice Cream                                                                 | 51 | 280 | 50 |\n| 13 |  12 | Ice Cream Works                                 | 4.8 | Ice Cream, Desserts                                                                 | 56 | 300 | 50 |\n| 24 |  23 | Moussestruck                                    | 4.8 | Ice Cream, Desserts, Sweets                                                         | 39 | 150 | 50 |\n| 43 |  42 | Kwality Walls Frozen Dessert and Ice Cream Shop | 4.7 | Desserts, Ice Cream, Ice Cream Cakes                                                | 35 | 100 | 50 |\n| 64 |  63 | Giani's                                         | 4.6 | Ice Cream, Ice Cream Cakes, Beverages, Desserts                                     | 38 | 250 | 15 |\n| 67 |  66 | Keventers Ice Cream                             | 4.6 | Ice Cream, Desserts                                                                 | 31 | 300 | 50 |\n| 68 |  67 | Gourmet Ice Cream Cakes by Baskin Robbins       | 4.6 | Desserts, Ice Cream, Bakery                                                         | 35 | 250 | 50 |\n| 69 |  68 | Apsara Ice Creams                               | 4.6 | Ice Cream, Desserts                                                                 | 28 | 150 | 50 |\n| 73 |  72 | Amul Ice Cream Parlour                          | 4.5 | Ice Cream, Desserts                                                                 | 50 | 200 | 50 |\n| 90 |  89 | The Belgian Waffle Co.                          | 4.5 | Waffle, Desserts, Ice Cream                                                         | 48 | 200 | 20 |\n| 97 |  96 | Grameen Kulfi                                   | 4.5 | Ice Cream, Desserts                                                                 | 35 | 120 | 50 |\n| 98 |  97 | The Brooklyn Creamery - Healthy Ice Cream       | 4.5 | Desserts, Ice Cream                                                                 | 34 | 200 | 50 |\n| 101 | 100 | NIC Natural Ice Creams                          | 4.5 | Ice Cream, Desserts                                                                 | 35 | 120 | 50 |\n| 103 | 102 | Made of Milk                                    | 4.5 | Sweets, Ice Cream, Beverages                                                        | 39 | 350 | 50 |\n| 120 | 119 | Oasiss Cakes &amp; IceCreams                        | 4.4 | Ice Cream, Desserts, Bakery                                                         | 46 | 150 | 50 |\n| 123 | 122 | Tender Fresh                                    | 4.4 | Ice Cream, Beverages                                                                | 57 | 150 | 50 |\n| 153 | 152 | NOTO - Healthy Ice Cream                        | 4.4 | Ice Cream, Healthy Food                                                             | 36 | 300 | 50 |\n| 173 | 172 | Myfroyoland                                     | 4.4 | Desserts, Ice Cream, Keto                                                           | 35 | 400 | 50 |\n| 183 | 182 | Baskin Robbins                                  | 4.4 | Desserts, Ice Cream                                                                 | 31 | 250 | 50 |\n| 218 | 217 | Alice in Gelatoland                             | 4.3 | Desserts, Ice Cream, Beverages                                                      | 49 | 200 | 50 |\n| 259 | 258 | Starbucks Coffee                                | 4.3 | Beverages, Ice Cream                                                                | 35 | 400 | 40 |\n| 264 | 263 | JOSHH - India Ka Apna Taste                     | 4.3 | Indian, North Indian, South Indian, Thalis, Ice Cream, Snacks, Street Food, Chaa... | 38 | 200 | 50 |\n| 289 | 288 | Keventerss The Beverages                        | 4.2 | Beverages, Desserts, Ice Cream                                                      | 55 | 300 | 50 |\n| 290 | 289 | Cremeborne - Ice Creams &amp; dessert               | 4.2 | Ice Cream, Beverages                                                                | 51 | 300 | 50 |\n| 292 | 291 | Havmour Ice Cream                               | 4.2 | Ice Cream                                                                           | 48 | 150 | 50 |\n| 301 | 300 | Caro-Sooper                                     | 4.2 | Ice Cream                                                                           | 43 | 400 | 60 |\n| 306 | 305 | Bangalore Iyangar's Bakery                      | 4.2 | Desserts, Bakery, Sweets, Ice Cream                                                 | 44 | 300 | 50 |\n| 311 | 310 | A 1 Ice Creams                                  | 4.2 | Desserts, Ice Cream                                                                 | 43 | 200 | 50 |\n| 326 | 325 | Keventerss The Beverages                        | 4.2 | Beverages, Desserts, Ice Cream                                                      | 55 | 300 | 50 |\n| 327 | 326 | Cremeborne - Ice Creams &amp; dessert               | 4.2 | Ice Cream, Beverages                                                                | 51 | 300 | 50 |\n| 329 | 328 | Havmour Ice Cream                               | 4.2 | Ice Cream                                                                           | 48 | 150 | 50 |\n| 363 | 362 | BEST BELGIAN WAFFLE                             | 4.1 | Indian, Desserts, Ice Cream, Bakery                                                 | 55 | 300 | 50 |\n| 377 | 376 | Huber &amp; Holly                                   | 4.1 | Desserts, Ice Cream                                                                 | 47 | 200 | 50 |\n| 454 | 453 | The Sugar Free Keto Kafe - By Artinci           | 4.0 | Healthy Food, Snacks, Keto, Bakery, Desserts, Beverages, Ice Cream                  | 38 | 200 | 50 |\n\n",
            "text/latex": "A data.frame: 35 × 7\n\\begin{tabular}{r|lllllll}\n  & X & Name & Rating & Specials & Delivery.time & Cost & Coupons\\\\\n  & <int> & <chr> & <dbl> & <chr> & <int> & <int> & <int>\\\\\n\\hline\n\t1 &   0 & Huber And Holly                                 & 5.0 & Ice Cream, Desserts                                                                 & 61 & 200 & 50\\\\\n\t7 &   6 & london dairy                                    & 4.9 & Desserts, Ice Cream                                                                 & 51 & 280 & 50\\\\\n\t13 &  12 & Ice Cream Works                                 & 4.8 & Ice Cream, Desserts                                                                 & 56 & 300 & 50\\\\\n\t24 &  23 & Moussestruck                                    & 4.8 & Ice Cream, Desserts, Sweets                                                         & 39 & 150 & 50\\\\\n\t43 &  42 & Kwality Walls Frozen Dessert and Ice Cream Shop & 4.7 & Desserts, Ice Cream, Ice Cream Cakes                                                & 35 & 100 & 50\\\\\n\t64 &  63 & Giani's                                         & 4.6 & Ice Cream, Ice Cream Cakes, Beverages, Desserts                                     & 38 & 250 & 15\\\\\n\t67 &  66 & Keventers Ice Cream                             & 4.6 & Ice Cream, Desserts                                                                 & 31 & 300 & 50\\\\\n\t68 &  67 & Gourmet Ice Cream Cakes by Baskin Robbins       & 4.6 & Desserts, Ice Cream, Bakery                                                         & 35 & 250 & 50\\\\\n\t69 &  68 & Apsara Ice Creams                               & 4.6 & Ice Cream, Desserts                                                                 & 28 & 150 & 50\\\\\n\t73 &  72 & Amul Ice Cream Parlour                          & 4.5 & Ice Cream, Desserts                                                                 & 50 & 200 & 50\\\\\n\t90 &  89 & The Belgian Waffle Co.                          & 4.5 & Waffle, Desserts, Ice Cream                                                         & 48 & 200 & 20\\\\\n\t97 &  96 & Grameen Kulfi                                   & 4.5 & Ice Cream, Desserts                                                                 & 35 & 120 & 50\\\\\n\t98 &  97 & The Brooklyn Creamery - Healthy Ice Cream       & 4.5 & Desserts, Ice Cream                                                                 & 34 & 200 & 50\\\\\n\t101 & 100 & NIC Natural Ice Creams                          & 4.5 & Ice Cream, Desserts                                                                 & 35 & 120 & 50\\\\\n\t103 & 102 & Made of Milk                                    & 4.5 & Sweets, Ice Cream, Beverages                                                        & 39 & 350 & 50\\\\\n\t120 & 119 & Oasiss Cakes \\& IceCreams                        & 4.4 & Ice Cream, Desserts, Bakery                                                         & 46 & 150 & 50\\\\\n\t123 & 122 & Tender Fresh                                    & 4.4 & Ice Cream, Beverages                                                                & 57 & 150 & 50\\\\\n\t153 & 152 & NOTO - Healthy Ice Cream                        & 4.4 & Ice Cream, Healthy Food                                                             & 36 & 300 & 50\\\\\n\t173 & 172 & Myfroyoland                                     & 4.4 & Desserts, Ice Cream, Keto                                                           & 35 & 400 & 50\\\\\n\t183 & 182 & Baskin Robbins                                  & 4.4 & Desserts, Ice Cream                                                                 & 31 & 250 & 50\\\\\n\t218 & 217 & Alice in Gelatoland                             & 4.3 & Desserts, Ice Cream, Beverages                                                      & 49 & 200 & 50\\\\\n\t259 & 258 & Starbucks Coffee                                & 4.3 & Beverages, Ice Cream                                                                & 35 & 400 & 40\\\\\n\t264 & 263 & JOSHH - India Ka Apna Taste                     & 4.3 & Indian, North Indian, South Indian, Thalis, Ice Cream, Snacks, Street Food, Chaa... & 38 & 200 & 50\\\\\n\t289 & 288 & Keventerss The Beverages                        & 4.2 & Beverages, Desserts, Ice Cream                                                      & 55 & 300 & 50\\\\\n\t290 & 289 & Cremeborne - Ice Creams \\& dessert               & 4.2 & Ice Cream, Beverages                                                                & 51 & 300 & 50\\\\\n\t292 & 291 & Havmour Ice Cream                               & 4.2 & Ice Cream                                                                           & 48 & 150 & 50\\\\\n\t301 & 300 & Caro-Sooper                                     & 4.2 & Ice Cream                                                                           & 43 & 400 & 60\\\\\n\t306 & 305 & Bangalore Iyangar's Bakery                      & 4.2 & Desserts, Bakery, Sweets, Ice Cream                                                 & 44 & 300 & 50\\\\\n\t311 & 310 & A 1 Ice Creams                                  & 4.2 & Desserts, Ice Cream                                                                 & 43 & 200 & 50\\\\\n\t326 & 325 & Keventerss The Beverages                        & 4.2 & Beverages, Desserts, Ice Cream                                                      & 55 & 300 & 50\\\\\n\t327 & 326 & Cremeborne - Ice Creams \\& dessert               & 4.2 & Ice Cream, Beverages                                                                & 51 & 300 & 50\\\\\n\t329 & 328 & Havmour Ice Cream                               & 4.2 & Ice Cream                                                                           & 48 & 150 & 50\\\\\n\t363 & 362 & BEST BELGIAN WAFFLE                             & 4.1 & Indian, Desserts, Ice Cream, Bakery                                                 & 55 & 300 & 50\\\\\n\t377 & 376 & Huber \\& Holly                                   & 4.1 & Desserts, Ice Cream                                                                 & 47 & 200 & 50\\\\\n\t454 & 453 & The Sugar Free Keto Kafe - By Artinci           & 4.0 & Healthy Food, Snacks, Keto, Bakery, Desserts, Beverages, Ice Cream                  & 38 & 200 & 50\\\\\n\\end{tabular}\n",
            "text/plain": [
              "    X   Name                                            Rating\n",
              "1     0 Huber And Holly                                 5.0   \n",
              "7     6 london dairy                                    4.9   \n",
              "13   12 Ice Cream Works                                 4.8   \n",
              "24   23 Moussestruck                                    4.8   \n",
              "43   42 Kwality Walls Frozen Dessert and Ice Cream Shop 4.7   \n",
              "64   63 Giani's                                         4.6   \n",
              "67   66 Keventers Ice Cream                             4.6   \n",
              "68   67 Gourmet Ice Cream Cakes by Baskin Robbins       4.6   \n",
              "69   68 Apsara Ice Creams                               4.6   \n",
              "73   72 Amul Ice Cream Parlour                          4.5   \n",
              "90   89 The Belgian Waffle Co.                          4.5   \n",
              "97   96 Grameen Kulfi                                   4.5   \n",
              "98   97 The Brooklyn Creamery - Healthy Ice Cream       4.5   \n",
              "101 100 NIC Natural Ice Creams                          4.5   \n",
              "103 102 Made of Milk                                    4.5   \n",
              "120 119 Oasiss Cakes & IceCreams                        4.4   \n",
              "123 122 Tender Fresh                                    4.4   \n",
              "153 152 NOTO - Healthy Ice Cream                        4.4   \n",
              "173 172 Myfroyoland                                     4.4   \n",
              "183 182 Baskin Robbins                                  4.4   \n",
              "218 217 Alice in Gelatoland                             4.3   \n",
              "259 258 Starbucks Coffee                                4.3   \n",
              "264 263 JOSHH - India Ka Apna Taste                     4.3   \n",
              "289 288 Keventerss The Beverages                        4.2   \n",
              "290 289 Cremeborne - Ice Creams & dessert               4.2   \n",
              "292 291 Havmour Ice Cream                               4.2   \n",
              "301 300 Caro-Sooper                                     4.2   \n",
              "306 305 Bangalore Iyangar's Bakery                      4.2   \n",
              "311 310 A 1 Ice Creams                                  4.2   \n",
              "326 325 Keventerss The Beverages                        4.2   \n",
              "327 326 Cremeborne - Ice Creams & dessert               4.2   \n",
              "329 328 Havmour Ice Cream                               4.2   \n",
              "363 362 BEST BELGIAN WAFFLE                             4.1   \n",
              "377 376 Huber & Holly                                   4.1   \n",
              "454 453 The Sugar Free Keto Kafe - By Artinci           4.0   \n",
              "    Specials                                                                           \n",
              "1   Ice Cream, Desserts                                                                \n",
              "7   Desserts, Ice Cream                                                                \n",
              "13  Ice Cream, Desserts                                                                \n",
              "24  Ice Cream, Desserts, Sweets                                                        \n",
              "43  Desserts, Ice Cream, Ice Cream Cakes                                               \n",
              "64  Ice Cream, Ice Cream Cakes, Beverages, Desserts                                    \n",
              "67  Ice Cream, Desserts                                                                \n",
              "68  Desserts, Ice Cream, Bakery                                                        \n",
              "69  Ice Cream, Desserts                                                                \n",
              "73  Ice Cream, Desserts                                                                \n",
              "90  Waffle, Desserts, Ice Cream                                                        \n",
              "97  Ice Cream, Desserts                                                                \n",
              "98  Desserts, Ice Cream                                                                \n",
              "101 Ice Cream, Desserts                                                                \n",
              "103 Sweets, Ice Cream, Beverages                                                       \n",
              "120 Ice Cream, Desserts, Bakery                                                        \n",
              "123 Ice Cream, Beverages                                                               \n",
              "153 Ice Cream, Healthy Food                                                            \n",
              "173 Desserts, Ice Cream, Keto                                                          \n",
              "183 Desserts, Ice Cream                                                                \n",
              "218 Desserts, Ice Cream, Beverages                                                     \n",
              "259 Beverages, Ice Cream                                                               \n",
              "264 Indian, North Indian, South Indian, Thalis, Ice Cream, Snacks, Street Food, Chaa...\n",
              "289 Beverages, Desserts, Ice Cream                                                     \n",
              "290 Ice Cream, Beverages                                                               \n",
              "292 Ice Cream                                                                          \n",
              "301 Ice Cream                                                                          \n",
              "306 Desserts, Bakery, Sweets, Ice Cream                                                \n",
              "311 Desserts, Ice Cream                                                                \n",
              "326 Beverages, Desserts, Ice Cream                                                     \n",
              "327 Ice Cream, Beverages                                                               \n",
              "329 Ice Cream                                                                          \n",
              "363 Indian, Desserts, Ice Cream, Bakery                                                \n",
              "377 Desserts, Ice Cream                                                                \n",
              "454 Healthy Food, Snacks, Keto, Bakery, Desserts, Beverages, Ice Cream                 \n",
              "    Delivery.time Cost Coupons\n",
              "1   61            200  50     \n",
              "7   51            280  50     \n",
              "13  56            300  50     \n",
              "24  39            150  50     \n",
              "43  35            100  50     \n",
              "64  38            250  15     \n",
              "67  31            300  50     \n",
              "68  35            250  50     \n",
              "69  28            150  50     \n",
              "73  50            200  50     \n",
              "90  48            200  20     \n",
              "97  35            120  50     \n",
              "98  34            200  50     \n",
              "101 35            120  50     \n",
              "103 39            350  50     \n",
              "120 46            150  50     \n",
              "123 57            150  50     \n",
              "153 36            300  50     \n",
              "173 35            400  50     \n",
              "183 31            250  50     \n",
              "218 49            200  50     \n",
              "259 35            400  40     \n",
              "264 38            200  50     \n",
              "289 55            300  50     \n",
              "290 51            300  50     \n",
              "292 48            150  50     \n",
              "301 43            400  60     \n",
              "306 44            300  50     \n",
              "311 43            200  50     \n",
              "326 55            300  50     \n",
              "327 51            300  50     \n",
              "329 48            150  50     \n",
              "363 55            300  50     \n",
              "377 47            200  50     \n",
              "454 38            200  50     "
            ]
          },
          "metadata": {}
        }
      ]
    },
    {
      "cell_type": "code",
      "source": [
        "# Filtering values in Delivery.time column, taking only those which lie between 30 and 40\n",
        "mydata <- mydata[mydata$Delivery.time >= 30 & mydata$Delivery.time <= 40, ]\n",
        "mydata"
      ],
      "metadata": {
        "colab": {
          "base_uri": "https://localhost:8080/",
          "height": 568
        },
        "id": "YAutdbc-Op_m",
        "outputId": "2151d29b-6d2b-4497-ebca-39bb4f7b1bd4"
      },
      "execution_count": 47,
      "outputs": [
        {
          "output_type": "display_data",
          "data": {
            "text/html": [
              "<table class=\"dataframe\">\n",
              "<caption>A data.frame: 15 × 7</caption>\n",
              "<thead>\n",
              "\t<tr><th></th><th scope=col>X</th><th scope=col>Name</th><th scope=col>Rating</th><th scope=col>Specials</th><th scope=col>Delivery.time</th><th scope=col>Cost</th><th scope=col>Coupons</th></tr>\n",
              "\t<tr><th></th><th scope=col>&lt;int&gt;</th><th scope=col>&lt;chr&gt;</th><th scope=col>&lt;dbl&gt;</th><th scope=col>&lt;chr&gt;</th><th scope=col>&lt;int&gt;</th><th scope=col>&lt;int&gt;</th><th scope=col>&lt;int&gt;</th></tr>\n",
              "</thead>\n",
              "<tbody>\n",
              "\t<tr><th scope=row>24</th><td> 23</td><td>Moussestruck                                   </td><td>4.8</td><td>Ice Cream, Desserts, Sweets                                                        </td><td>39</td><td>150</td><td>50</td></tr>\n",
              "\t<tr><th scope=row>43</th><td> 42</td><td>Kwality Walls Frozen Dessert and Ice Cream Shop</td><td>4.7</td><td>Desserts, Ice Cream, Ice Cream Cakes                                               </td><td>35</td><td>100</td><td>50</td></tr>\n",
              "\t<tr><th scope=row>64</th><td> 63</td><td>Giani's                                        </td><td>4.6</td><td>Ice Cream, Ice Cream Cakes, Beverages, Desserts                                    </td><td>38</td><td>250</td><td>15</td></tr>\n",
              "\t<tr><th scope=row>67</th><td> 66</td><td>Keventers Ice Cream                            </td><td>4.6</td><td>Ice Cream, Desserts                                                                </td><td>31</td><td>300</td><td>50</td></tr>\n",
              "\t<tr><th scope=row>68</th><td> 67</td><td>Gourmet Ice Cream Cakes by Baskin Robbins      </td><td>4.6</td><td>Desserts, Ice Cream, Bakery                                                        </td><td>35</td><td>250</td><td>50</td></tr>\n",
              "\t<tr><th scope=row>97</th><td> 96</td><td>Grameen Kulfi                                  </td><td>4.5</td><td>Ice Cream, Desserts                                                                </td><td>35</td><td>120</td><td>50</td></tr>\n",
              "\t<tr><th scope=row>98</th><td> 97</td><td>The Brooklyn Creamery - Healthy Ice Cream      </td><td>4.5</td><td>Desserts, Ice Cream                                                                </td><td>34</td><td>200</td><td>50</td></tr>\n",
              "\t<tr><th scope=row>101</th><td>100</td><td>NIC Natural Ice Creams                         </td><td>4.5</td><td>Ice Cream, Desserts                                                                </td><td>35</td><td>120</td><td>50</td></tr>\n",
              "\t<tr><th scope=row>103</th><td>102</td><td>Made of Milk                                   </td><td>4.5</td><td>Sweets, Ice Cream, Beverages                                                       </td><td>39</td><td>350</td><td>50</td></tr>\n",
              "\t<tr><th scope=row>153</th><td>152</td><td>NOTO - Healthy Ice Cream                       </td><td>4.4</td><td>Ice Cream, Healthy Food                                                            </td><td>36</td><td>300</td><td>50</td></tr>\n",
              "\t<tr><th scope=row>173</th><td>172</td><td>Myfroyoland                                    </td><td>4.4</td><td>Desserts, Ice Cream, Keto                                                          </td><td>35</td><td>400</td><td>50</td></tr>\n",
              "\t<tr><th scope=row>183</th><td>182</td><td>Baskin Robbins                                 </td><td>4.4</td><td>Desserts, Ice Cream                                                                </td><td>31</td><td>250</td><td>50</td></tr>\n",
              "\t<tr><th scope=row>259</th><td>258</td><td>Starbucks Coffee                               </td><td>4.3</td><td>Beverages, Ice Cream                                                               </td><td>35</td><td>400</td><td>40</td></tr>\n",
              "\t<tr><th scope=row>264</th><td>263</td><td>JOSHH - India Ka Apna Taste                    </td><td>4.3</td><td>Indian, North Indian, South Indian, Thalis, Ice Cream, Snacks, Street Food, Chaa...</td><td>38</td><td>200</td><td>50</td></tr>\n",
              "\t<tr><th scope=row>454</th><td>453</td><td>The Sugar Free Keto Kafe - By Artinci          </td><td>4.0</td><td>Healthy Food, Snacks, Keto, Bakery, Desserts, Beverages, Ice Cream                 </td><td>38</td><td>200</td><td>50</td></tr>\n",
              "</tbody>\n",
              "</table>\n"
            ],
            "text/markdown": "\nA data.frame: 15 × 7\n\n| <!--/--> | X &lt;int&gt; | Name &lt;chr&gt; | Rating &lt;dbl&gt; | Specials &lt;chr&gt; | Delivery.time &lt;int&gt; | Cost &lt;int&gt; | Coupons &lt;int&gt; |\n|---|---|---|---|---|---|---|---|\n| 24 |  23 | Moussestruck                                    | 4.8 | Ice Cream, Desserts, Sweets                                                         | 39 | 150 | 50 |\n| 43 |  42 | Kwality Walls Frozen Dessert and Ice Cream Shop | 4.7 | Desserts, Ice Cream, Ice Cream Cakes                                                | 35 | 100 | 50 |\n| 64 |  63 | Giani's                                         | 4.6 | Ice Cream, Ice Cream Cakes, Beverages, Desserts                                     | 38 | 250 | 15 |\n| 67 |  66 | Keventers Ice Cream                             | 4.6 | Ice Cream, Desserts                                                                 | 31 | 300 | 50 |\n| 68 |  67 | Gourmet Ice Cream Cakes by Baskin Robbins       | 4.6 | Desserts, Ice Cream, Bakery                                                         | 35 | 250 | 50 |\n| 97 |  96 | Grameen Kulfi                                   | 4.5 | Ice Cream, Desserts                                                                 | 35 | 120 | 50 |\n| 98 |  97 | The Brooklyn Creamery - Healthy Ice Cream       | 4.5 | Desserts, Ice Cream                                                                 | 34 | 200 | 50 |\n| 101 | 100 | NIC Natural Ice Creams                          | 4.5 | Ice Cream, Desserts                                                                 | 35 | 120 | 50 |\n| 103 | 102 | Made of Milk                                    | 4.5 | Sweets, Ice Cream, Beverages                                                        | 39 | 350 | 50 |\n| 153 | 152 | NOTO - Healthy Ice Cream                        | 4.4 | Ice Cream, Healthy Food                                                             | 36 | 300 | 50 |\n| 173 | 172 | Myfroyoland                                     | 4.4 | Desserts, Ice Cream, Keto                                                           | 35 | 400 | 50 |\n| 183 | 182 | Baskin Robbins                                  | 4.4 | Desserts, Ice Cream                                                                 | 31 | 250 | 50 |\n| 259 | 258 | Starbucks Coffee                                | 4.3 | Beverages, Ice Cream                                                                | 35 | 400 | 40 |\n| 264 | 263 | JOSHH - India Ka Apna Taste                     | 4.3 | Indian, North Indian, South Indian, Thalis, Ice Cream, Snacks, Street Food, Chaa... | 38 | 200 | 50 |\n| 454 | 453 | The Sugar Free Keto Kafe - By Artinci           | 4.0 | Healthy Food, Snacks, Keto, Bakery, Desserts, Beverages, Ice Cream                  | 38 | 200 | 50 |\n\n",
            "text/latex": "A data.frame: 15 × 7\n\\begin{tabular}{r|lllllll}\n  & X & Name & Rating & Specials & Delivery.time & Cost & Coupons\\\\\n  & <int> & <chr> & <dbl> & <chr> & <int> & <int> & <int>\\\\\n\\hline\n\t24 &  23 & Moussestruck                                    & 4.8 & Ice Cream, Desserts, Sweets                                                         & 39 & 150 & 50\\\\\n\t43 &  42 & Kwality Walls Frozen Dessert and Ice Cream Shop & 4.7 & Desserts, Ice Cream, Ice Cream Cakes                                                & 35 & 100 & 50\\\\\n\t64 &  63 & Giani's                                         & 4.6 & Ice Cream, Ice Cream Cakes, Beverages, Desserts                                     & 38 & 250 & 15\\\\\n\t67 &  66 & Keventers Ice Cream                             & 4.6 & Ice Cream, Desserts                                                                 & 31 & 300 & 50\\\\\n\t68 &  67 & Gourmet Ice Cream Cakes by Baskin Robbins       & 4.6 & Desserts, Ice Cream, Bakery                                                         & 35 & 250 & 50\\\\\n\t97 &  96 & Grameen Kulfi                                   & 4.5 & Ice Cream, Desserts                                                                 & 35 & 120 & 50\\\\\n\t98 &  97 & The Brooklyn Creamery - Healthy Ice Cream       & 4.5 & Desserts, Ice Cream                                                                 & 34 & 200 & 50\\\\\n\t101 & 100 & NIC Natural Ice Creams                          & 4.5 & Ice Cream, Desserts                                                                 & 35 & 120 & 50\\\\\n\t103 & 102 & Made of Milk                                    & 4.5 & Sweets, Ice Cream, Beverages                                                        & 39 & 350 & 50\\\\\n\t153 & 152 & NOTO - Healthy Ice Cream                        & 4.4 & Ice Cream, Healthy Food                                                             & 36 & 300 & 50\\\\\n\t173 & 172 & Myfroyoland                                     & 4.4 & Desserts, Ice Cream, Keto                                                           & 35 & 400 & 50\\\\\n\t183 & 182 & Baskin Robbins                                  & 4.4 & Desserts, Ice Cream                                                                 & 31 & 250 & 50\\\\\n\t259 & 258 & Starbucks Coffee                                & 4.3 & Beverages, Ice Cream                                                                & 35 & 400 & 40\\\\\n\t264 & 263 & JOSHH - India Ka Apna Taste                     & 4.3 & Indian, North Indian, South Indian, Thalis, Ice Cream, Snacks, Street Food, Chaa... & 38 & 200 & 50\\\\\n\t454 & 453 & The Sugar Free Keto Kafe - By Artinci           & 4.0 & Healthy Food, Snacks, Keto, Bakery, Desserts, Beverages, Ice Cream                  & 38 & 200 & 50\\\\\n\\end{tabular}\n",
            "text/plain": [
              "    X   Name                                            Rating\n",
              "24   23 Moussestruck                                    4.8   \n",
              "43   42 Kwality Walls Frozen Dessert and Ice Cream Shop 4.7   \n",
              "64   63 Giani's                                         4.6   \n",
              "67   66 Keventers Ice Cream                             4.6   \n",
              "68   67 Gourmet Ice Cream Cakes by Baskin Robbins       4.6   \n",
              "97   96 Grameen Kulfi                                   4.5   \n",
              "98   97 The Brooklyn Creamery - Healthy Ice Cream       4.5   \n",
              "101 100 NIC Natural Ice Creams                          4.5   \n",
              "103 102 Made of Milk                                    4.5   \n",
              "153 152 NOTO - Healthy Ice Cream                        4.4   \n",
              "173 172 Myfroyoland                                     4.4   \n",
              "183 182 Baskin Robbins                                  4.4   \n",
              "259 258 Starbucks Coffee                                4.3   \n",
              "264 263 JOSHH - India Ka Apna Taste                     4.3   \n",
              "454 453 The Sugar Free Keto Kafe - By Artinci           4.0   \n",
              "    Specials                                                                           \n",
              "24  Ice Cream, Desserts, Sweets                                                        \n",
              "43  Desserts, Ice Cream, Ice Cream Cakes                                               \n",
              "64  Ice Cream, Ice Cream Cakes, Beverages, Desserts                                    \n",
              "67  Ice Cream, Desserts                                                                \n",
              "68  Desserts, Ice Cream, Bakery                                                        \n",
              "97  Ice Cream, Desserts                                                                \n",
              "98  Desserts, Ice Cream                                                                \n",
              "101 Ice Cream, Desserts                                                                \n",
              "103 Sweets, Ice Cream, Beverages                                                       \n",
              "153 Ice Cream, Healthy Food                                                            \n",
              "173 Desserts, Ice Cream, Keto                                                          \n",
              "183 Desserts, Ice Cream                                                                \n",
              "259 Beverages, Ice Cream                                                               \n",
              "264 Indian, North Indian, South Indian, Thalis, Ice Cream, Snacks, Street Food, Chaa...\n",
              "454 Healthy Food, Snacks, Keto, Bakery, Desserts, Beverages, Ice Cream                 \n",
              "    Delivery.time Cost Coupons\n",
              "24  39            150  50     \n",
              "43  35            100  50     \n",
              "64  38            250  15     \n",
              "67  31            300  50     \n",
              "68  35            250  50     \n",
              "97  35            120  50     \n",
              "98  34            200  50     \n",
              "101 35            120  50     \n",
              "103 39            350  50     \n",
              "153 36            300  50     \n",
              "173 35            400  50     \n",
              "183 31            250  50     \n",
              "259 35            400  40     \n",
              "264 38            200  50     \n",
              "454 38            200  50     "
            ]
          },
          "metadata": {}
        }
      ]
    },
    {
      "cell_type": "code",
      "source": [
        "mydata <- mydata[mydata$Coupons >= 50, ]\n",
        "mydata"
      ],
      "metadata": {
        "colab": {
          "base_uri": "https://localhost:8080/",
          "height": 505
        },
        "id": "-yjMOxFXPHkH",
        "outputId": "738959fb-b98b-4e07-d37a-e4f004216f2c"
      },
      "execution_count": 48,
      "outputs": [
        {
          "output_type": "display_data",
          "data": {
            "text/html": [
              "<table class=\"dataframe\">\n",
              "<caption>A data.frame: 13 × 7</caption>\n",
              "<thead>\n",
              "\t<tr><th></th><th scope=col>X</th><th scope=col>Name</th><th scope=col>Rating</th><th scope=col>Specials</th><th scope=col>Delivery.time</th><th scope=col>Cost</th><th scope=col>Coupons</th></tr>\n",
              "\t<tr><th></th><th scope=col>&lt;int&gt;</th><th scope=col>&lt;chr&gt;</th><th scope=col>&lt;dbl&gt;</th><th scope=col>&lt;chr&gt;</th><th scope=col>&lt;int&gt;</th><th scope=col>&lt;int&gt;</th><th scope=col>&lt;int&gt;</th></tr>\n",
              "</thead>\n",
              "<tbody>\n",
              "\t<tr><th scope=row>24</th><td> 23</td><td>Moussestruck                                   </td><td>4.8</td><td>Ice Cream, Desserts, Sweets                                                        </td><td>39</td><td>150</td><td>50</td></tr>\n",
              "\t<tr><th scope=row>43</th><td> 42</td><td>Kwality Walls Frozen Dessert and Ice Cream Shop</td><td>4.7</td><td>Desserts, Ice Cream, Ice Cream Cakes                                               </td><td>35</td><td>100</td><td>50</td></tr>\n",
              "\t<tr><th scope=row>67</th><td> 66</td><td>Keventers Ice Cream                            </td><td>4.6</td><td>Ice Cream, Desserts                                                                </td><td>31</td><td>300</td><td>50</td></tr>\n",
              "\t<tr><th scope=row>68</th><td> 67</td><td>Gourmet Ice Cream Cakes by Baskin Robbins      </td><td>4.6</td><td>Desserts, Ice Cream, Bakery                                                        </td><td>35</td><td>250</td><td>50</td></tr>\n",
              "\t<tr><th scope=row>97</th><td> 96</td><td>Grameen Kulfi                                  </td><td>4.5</td><td>Ice Cream, Desserts                                                                </td><td>35</td><td>120</td><td>50</td></tr>\n",
              "\t<tr><th scope=row>98</th><td> 97</td><td>The Brooklyn Creamery - Healthy Ice Cream      </td><td>4.5</td><td>Desserts, Ice Cream                                                                </td><td>34</td><td>200</td><td>50</td></tr>\n",
              "\t<tr><th scope=row>101</th><td>100</td><td>NIC Natural Ice Creams                         </td><td>4.5</td><td>Ice Cream, Desserts                                                                </td><td>35</td><td>120</td><td>50</td></tr>\n",
              "\t<tr><th scope=row>103</th><td>102</td><td>Made of Milk                                   </td><td>4.5</td><td>Sweets, Ice Cream, Beverages                                                       </td><td>39</td><td>350</td><td>50</td></tr>\n",
              "\t<tr><th scope=row>153</th><td>152</td><td>NOTO - Healthy Ice Cream                       </td><td>4.4</td><td>Ice Cream, Healthy Food                                                            </td><td>36</td><td>300</td><td>50</td></tr>\n",
              "\t<tr><th scope=row>173</th><td>172</td><td>Myfroyoland                                    </td><td>4.4</td><td>Desserts, Ice Cream, Keto                                                          </td><td>35</td><td>400</td><td>50</td></tr>\n",
              "\t<tr><th scope=row>183</th><td>182</td><td>Baskin Robbins                                 </td><td>4.4</td><td>Desserts, Ice Cream                                                                </td><td>31</td><td>250</td><td>50</td></tr>\n",
              "\t<tr><th scope=row>264</th><td>263</td><td>JOSHH - India Ka Apna Taste                    </td><td>4.3</td><td>Indian, North Indian, South Indian, Thalis, Ice Cream, Snacks, Street Food, Chaa...</td><td>38</td><td>200</td><td>50</td></tr>\n",
              "\t<tr><th scope=row>454</th><td>453</td><td>The Sugar Free Keto Kafe - By Artinci          </td><td>4.0</td><td>Healthy Food, Snacks, Keto, Bakery, Desserts, Beverages, Ice Cream                 </td><td>38</td><td>200</td><td>50</td></tr>\n",
              "</tbody>\n",
              "</table>\n"
            ],
            "text/markdown": "\nA data.frame: 13 × 7\n\n| <!--/--> | X &lt;int&gt; | Name &lt;chr&gt; | Rating &lt;dbl&gt; | Specials &lt;chr&gt; | Delivery.time &lt;int&gt; | Cost &lt;int&gt; | Coupons &lt;int&gt; |\n|---|---|---|---|---|---|---|---|\n| 24 |  23 | Moussestruck                                    | 4.8 | Ice Cream, Desserts, Sweets                                                         | 39 | 150 | 50 |\n| 43 |  42 | Kwality Walls Frozen Dessert and Ice Cream Shop | 4.7 | Desserts, Ice Cream, Ice Cream Cakes                                                | 35 | 100 | 50 |\n| 67 |  66 | Keventers Ice Cream                             | 4.6 | Ice Cream, Desserts                                                                 | 31 | 300 | 50 |\n| 68 |  67 | Gourmet Ice Cream Cakes by Baskin Robbins       | 4.6 | Desserts, Ice Cream, Bakery                                                         | 35 | 250 | 50 |\n| 97 |  96 | Grameen Kulfi                                   | 4.5 | Ice Cream, Desserts                                                                 | 35 | 120 | 50 |\n| 98 |  97 | The Brooklyn Creamery - Healthy Ice Cream       | 4.5 | Desserts, Ice Cream                                                                 | 34 | 200 | 50 |\n| 101 | 100 | NIC Natural Ice Creams                          | 4.5 | Ice Cream, Desserts                                                                 | 35 | 120 | 50 |\n| 103 | 102 | Made of Milk                                    | 4.5 | Sweets, Ice Cream, Beverages                                                        | 39 | 350 | 50 |\n| 153 | 152 | NOTO - Healthy Ice Cream                        | 4.4 | Ice Cream, Healthy Food                                                             | 36 | 300 | 50 |\n| 173 | 172 | Myfroyoland                                     | 4.4 | Desserts, Ice Cream, Keto                                                           | 35 | 400 | 50 |\n| 183 | 182 | Baskin Robbins                                  | 4.4 | Desserts, Ice Cream                                                                 | 31 | 250 | 50 |\n| 264 | 263 | JOSHH - India Ka Apna Taste                     | 4.3 | Indian, North Indian, South Indian, Thalis, Ice Cream, Snacks, Street Food, Chaa... | 38 | 200 | 50 |\n| 454 | 453 | The Sugar Free Keto Kafe - By Artinci           | 4.0 | Healthy Food, Snacks, Keto, Bakery, Desserts, Beverages, Ice Cream                  | 38 | 200 | 50 |\n\n",
            "text/latex": "A data.frame: 13 × 7\n\\begin{tabular}{r|lllllll}\n  & X & Name & Rating & Specials & Delivery.time & Cost & Coupons\\\\\n  & <int> & <chr> & <dbl> & <chr> & <int> & <int> & <int>\\\\\n\\hline\n\t24 &  23 & Moussestruck                                    & 4.8 & Ice Cream, Desserts, Sweets                                                         & 39 & 150 & 50\\\\\n\t43 &  42 & Kwality Walls Frozen Dessert and Ice Cream Shop & 4.7 & Desserts, Ice Cream, Ice Cream Cakes                                                & 35 & 100 & 50\\\\\n\t67 &  66 & Keventers Ice Cream                             & 4.6 & Ice Cream, Desserts                                                                 & 31 & 300 & 50\\\\\n\t68 &  67 & Gourmet Ice Cream Cakes by Baskin Robbins       & 4.6 & Desserts, Ice Cream, Bakery                                                         & 35 & 250 & 50\\\\\n\t97 &  96 & Grameen Kulfi                                   & 4.5 & Ice Cream, Desserts                                                                 & 35 & 120 & 50\\\\\n\t98 &  97 & The Brooklyn Creamery - Healthy Ice Cream       & 4.5 & Desserts, Ice Cream                                                                 & 34 & 200 & 50\\\\\n\t101 & 100 & NIC Natural Ice Creams                          & 4.5 & Ice Cream, Desserts                                                                 & 35 & 120 & 50\\\\\n\t103 & 102 & Made of Milk                                    & 4.5 & Sweets, Ice Cream, Beverages                                                        & 39 & 350 & 50\\\\\n\t153 & 152 & NOTO - Healthy Ice Cream                        & 4.4 & Ice Cream, Healthy Food                                                             & 36 & 300 & 50\\\\\n\t173 & 172 & Myfroyoland                                     & 4.4 & Desserts, Ice Cream, Keto                                                           & 35 & 400 & 50\\\\\n\t183 & 182 & Baskin Robbins                                  & 4.4 & Desserts, Ice Cream                                                                 & 31 & 250 & 50\\\\\n\t264 & 263 & JOSHH - India Ka Apna Taste                     & 4.3 & Indian, North Indian, South Indian, Thalis, Ice Cream, Snacks, Street Food, Chaa... & 38 & 200 & 50\\\\\n\t454 & 453 & The Sugar Free Keto Kafe - By Artinci           & 4.0 & Healthy Food, Snacks, Keto, Bakery, Desserts, Beverages, Ice Cream                  & 38 & 200 & 50\\\\\n\\end{tabular}\n",
            "text/plain": [
              "    X   Name                                            Rating\n",
              "24   23 Moussestruck                                    4.8   \n",
              "43   42 Kwality Walls Frozen Dessert and Ice Cream Shop 4.7   \n",
              "67   66 Keventers Ice Cream                             4.6   \n",
              "68   67 Gourmet Ice Cream Cakes by Baskin Robbins       4.6   \n",
              "97   96 Grameen Kulfi                                   4.5   \n",
              "98   97 The Brooklyn Creamery - Healthy Ice Cream       4.5   \n",
              "101 100 NIC Natural Ice Creams                          4.5   \n",
              "103 102 Made of Milk                                    4.5   \n",
              "153 152 NOTO - Healthy Ice Cream                        4.4   \n",
              "173 172 Myfroyoland                                     4.4   \n",
              "183 182 Baskin Robbins                                  4.4   \n",
              "264 263 JOSHH - India Ka Apna Taste                     4.3   \n",
              "454 453 The Sugar Free Keto Kafe - By Artinci           4.0   \n",
              "    Specials                                                                           \n",
              "24  Ice Cream, Desserts, Sweets                                                        \n",
              "43  Desserts, Ice Cream, Ice Cream Cakes                                               \n",
              "67  Ice Cream, Desserts                                                                \n",
              "68  Desserts, Ice Cream, Bakery                                                        \n",
              "97  Ice Cream, Desserts                                                                \n",
              "98  Desserts, Ice Cream                                                                \n",
              "101 Ice Cream, Desserts                                                                \n",
              "103 Sweets, Ice Cream, Beverages                                                       \n",
              "153 Ice Cream, Healthy Food                                                            \n",
              "173 Desserts, Ice Cream, Keto                                                          \n",
              "183 Desserts, Ice Cream                                                                \n",
              "264 Indian, North Indian, South Indian, Thalis, Ice Cream, Snacks, Street Food, Chaa...\n",
              "454 Healthy Food, Snacks, Keto, Bakery, Desserts, Beverages, Ice Cream                 \n",
              "    Delivery.time Cost Coupons\n",
              "24  39            150  50     \n",
              "43  35            100  50     \n",
              "67  31            300  50     \n",
              "68  35            250  50     \n",
              "97  35            120  50     \n",
              "98  34            200  50     \n",
              "101 35            120  50     \n",
              "103 39            350  50     \n",
              "153 36            300  50     \n",
              "173 35            400  50     \n",
              "183 31            250  50     \n",
              "264 38            200  50     \n",
              "454 38            200  50     "
            ]
          },
          "metadata": {}
        }
      ]
    },
    {
      "cell_type": "code",
      "source": [
        "# Droping Specials column\n",
        "mydata <- mydata[, -which(names(mydata) == \"Specials\")]\n",
        "mydata"
      ],
      "metadata": {
        "colab": {
          "base_uri": "https://localhost:8080/",
          "height": 505
        },
        "id": "cCulwTm8Q0hU",
        "outputId": "1d41cba1-a629-4216-8f19-3e233bd7897b"
      },
      "execution_count": 49,
      "outputs": [
        {
          "output_type": "display_data",
          "data": {
            "text/html": [
              "<table class=\"dataframe\">\n",
              "<caption>A data.frame: 13 × 6</caption>\n",
              "<thead>\n",
              "\t<tr><th></th><th scope=col>X</th><th scope=col>Name</th><th scope=col>Rating</th><th scope=col>Delivery.time</th><th scope=col>Cost</th><th scope=col>Coupons</th></tr>\n",
              "\t<tr><th></th><th scope=col>&lt;int&gt;</th><th scope=col>&lt;chr&gt;</th><th scope=col>&lt;dbl&gt;</th><th scope=col>&lt;int&gt;</th><th scope=col>&lt;int&gt;</th><th scope=col>&lt;int&gt;</th></tr>\n",
              "</thead>\n",
              "<tbody>\n",
              "\t<tr><th scope=row>24</th><td> 23</td><td>Moussestruck                                   </td><td>4.8</td><td>39</td><td>150</td><td>50</td></tr>\n",
              "\t<tr><th scope=row>43</th><td> 42</td><td>Kwality Walls Frozen Dessert and Ice Cream Shop</td><td>4.7</td><td>35</td><td>100</td><td>50</td></tr>\n",
              "\t<tr><th scope=row>67</th><td> 66</td><td>Keventers Ice Cream                            </td><td>4.6</td><td>31</td><td>300</td><td>50</td></tr>\n",
              "\t<tr><th scope=row>68</th><td> 67</td><td>Gourmet Ice Cream Cakes by Baskin Robbins      </td><td>4.6</td><td>35</td><td>250</td><td>50</td></tr>\n",
              "\t<tr><th scope=row>97</th><td> 96</td><td>Grameen Kulfi                                  </td><td>4.5</td><td>35</td><td>120</td><td>50</td></tr>\n",
              "\t<tr><th scope=row>98</th><td> 97</td><td>The Brooklyn Creamery - Healthy Ice Cream      </td><td>4.5</td><td>34</td><td>200</td><td>50</td></tr>\n",
              "\t<tr><th scope=row>101</th><td>100</td><td>NIC Natural Ice Creams                         </td><td>4.5</td><td>35</td><td>120</td><td>50</td></tr>\n",
              "\t<tr><th scope=row>103</th><td>102</td><td>Made of Milk                                   </td><td>4.5</td><td>39</td><td>350</td><td>50</td></tr>\n",
              "\t<tr><th scope=row>153</th><td>152</td><td>NOTO - Healthy Ice Cream                       </td><td>4.4</td><td>36</td><td>300</td><td>50</td></tr>\n",
              "\t<tr><th scope=row>173</th><td>172</td><td>Myfroyoland                                    </td><td>4.4</td><td>35</td><td>400</td><td>50</td></tr>\n",
              "\t<tr><th scope=row>183</th><td>182</td><td>Baskin Robbins                                 </td><td>4.4</td><td>31</td><td>250</td><td>50</td></tr>\n",
              "\t<tr><th scope=row>264</th><td>263</td><td>JOSHH - India Ka Apna Taste                    </td><td>4.3</td><td>38</td><td>200</td><td>50</td></tr>\n",
              "\t<tr><th scope=row>454</th><td>453</td><td>The Sugar Free Keto Kafe - By Artinci          </td><td>4.0</td><td>38</td><td>200</td><td>50</td></tr>\n",
              "</tbody>\n",
              "</table>\n"
            ],
            "text/markdown": "\nA data.frame: 13 × 6\n\n| <!--/--> | X &lt;int&gt; | Name &lt;chr&gt; | Rating &lt;dbl&gt; | Delivery.time &lt;int&gt; | Cost &lt;int&gt; | Coupons &lt;int&gt; |\n|---|---|---|---|---|---|---|\n| 24 |  23 | Moussestruck                                    | 4.8 | 39 | 150 | 50 |\n| 43 |  42 | Kwality Walls Frozen Dessert and Ice Cream Shop | 4.7 | 35 | 100 | 50 |\n| 67 |  66 | Keventers Ice Cream                             | 4.6 | 31 | 300 | 50 |\n| 68 |  67 | Gourmet Ice Cream Cakes by Baskin Robbins       | 4.6 | 35 | 250 | 50 |\n| 97 |  96 | Grameen Kulfi                                   | 4.5 | 35 | 120 | 50 |\n| 98 |  97 | The Brooklyn Creamery - Healthy Ice Cream       | 4.5 | 34 | 200 | 50 |\n| 101 | 100 | NIC Natural Ice Creams                          | 4.5 | 35 | 120 | 50 |\n| 103 | 102 | Made of Milk                                    | 4.5 | 39 | 350 | 50 |\n| 153 | 152 | NOTO - Healthy Ice Cream                        | 4.4 | 36 | 300 | 50 |\n| 173 | 172 | Myfroyoland                                     | 4.4 | 35 | 400 | 50 |\n| 183 | 182 | Baskin Robbins                                  | 4.4 | 31 | 250 | 50 |\n| 264 | 263 | JOSHH - India Ka Apna Taste                     | 4.3 | 38 | 200 | 50 |\n| 454 | 453 | The Sugar Free Keto Kafe - By Artinci           | 4.0 | 38 | 200 | 50 |\n\n",
            "text/latex": "A data.frame: 13 × 6\n\\begin{tabular}{r|llllll}\n  & X & Name & Rating & Delivery.time & Cost & Coupons\\\\\n  & <int> & <chr> & <dbl> & <int> & <int> & <int>\\\\\n\\hline\n\t24 &  23 & Moussestruck                                    & 4.8 & 39 & 150 & 50\\\\\n\t43 &  42 & Kwality Walls Frozen Dessert and Ice Cream Shop & 4.7 & 35 & 100 & 50\\\\\n\t67 &  66 & Keventers Ice Cream                             & 4.6 & 31 & 300 & 50\\\\\n\t68 &  67 & Gourmet Ice Cream Cakes by Baskin Robbins       & 4.6 & 35 & 250 & 50\\\\\n\t97 &  96 & Grameen Kulfi                                   & 4.5 & 35 & 120 & 50\\\\\n\t98 &  97 & The Brooklyn Creamery - Healthy Ice Cream       & 4.5 & 34 & 200 & 50\\\\\n\t101 & 100 & NIC Natural Ice Creams                          & 4.5 & 35 & 120 & 50\\\\\n\t103 & 102 & Made of Milk                                    & 4.5 & 39 & 350 & 50\\\\\n\t153 & 152 & NOTO - Healthy Ice Cream                        & 4.4 & 36 & 300 & 50\\\\\n\t173 & 172 & Myfroyoland                                     & 4.4 & 35 & 400 & 50\\\\\n\t183 & 182 & Baskin Robbins                                  & 4.4 & 31 & 250 & 50\\\\\n\t264 & 263 & JOSHH - India Ka Apna Taste                     & 4.3 & 38 & 200 & 50\\\\\n\t454 & 453 & The Sugar Free Keto Kafe - By Artinci           & 4.0 & 38 & 200 & 50\\\\\n\\end{tabular}\n",
            "text/plain": [
              "    X   Name                                            Rating Delivery.time\n",
              "24   23 Moussestruck                                    4.8    39           \n",
              "43   42 Kwality Walls Frozen Dessert and Ice Cream Shop 4.7    35           \n",
              "67   66 Keventers Ice Cream                             4.6    31           \n",
              "68   67 Gourmet Ice Cream Cakes by Baskin Robbins       4.6    35           \n",
              "97   96 Grameen Kulfi                                   4.5    35           \n",
              "98   97 The Brooklyn Creamery - Healthy Ice Cream       4.5    34           \n",
              "101 100 NIC Natural Ice Creams                          4.5    35           \n",
              "103 102 Made of Milk                                    4.5    39           \n",
              "153 152 NOTO - Healthy Ice Cream                        4.4    36           \n",
              "173 172 Myfroyoland                                     4.4    35           \n",
              "183 182 Baskin Robbins                                  4.4    31           \n",
              "264 263 JOSHH - India Ka Apna Taste                     4.3    38           \n",
              "454 453 The Sugar Free Keto Kafe - By Artinci           4.0    38           \n",
              "    Cost Coupons\n",
              "24  150  50     \n",
              "43  100  50     \n",
              "67  300  50     \n",
              "68  250  50     \n",
              "97  120  50     \n",
              "98  200  50     \n",
              "101 120  50     \n",
              "103 350  50     \n",
              "153 300  50     \n",
              "173 400  50     \n",
              "183 250  50     \n",
              "264 200  50     \n",
              "454 200  50     "
            ]
          },
          "metadata": {}
        }
      ]
    },
    {
      "cell_type": "code",
      "source": [
        "mydata <- mydata[, -which(names(mydata) == \"Coupons\")]\n",
        "mydata"
      ],
      "metadata": {
        "colab": {
          "base_uri": "https://localhost:8080/",
          "height": 505
        },
        "id": "t2VMfX24Rakc",
        "outputId": "f76347bf-f25c-4cdc-84af-6493b5019ed0"
      },
      "execution_count": 50,
      "outputs": [
        {
          "output_type": "display_data",
          "data": {
            "text/html": [
              "<table class=\"dataframe\">\n",
              "<caption>A data.frame: 13 × 5</caption>\n",
              "<thead>\n",
              "\t<tr><th></th><th scope=col>X</th><th scope=col>Name</th><th scope=col>Rating</th><th scope=col>Delivery.time</th><th scope=col>Cost</th></tr>\n",
              "\t<tr><th></th><th scope=col>&lt;int&gt;</th><th scope=col>&lt;chr&gt;</th><th scope=col>&lt;dbl&gt;</th><th scope=col>&lt;int&gt;</th><th scope=col>&lt;int&gt;</th></tr>\n",
              "</thead>\n",
              "<tbody>\n",
              "\t<tr><th scope=row>24</th><td> 23</td><td>Moussestruck                                   </td><td>4.8</td><td>39</td><td>150</td></tr>\n",
              "\t<tr><th scope=row>43</th><td> 42</td><td>Kwality Walls Frozen Dessert and Ice Cream Shop</td><td>4.7</td><td>35</td><td>100</td></tr>\n",
              "\t<tr><th scope=row>67</th><td> 66</td><td>Keventers Ice Cream                            </td><td>4.6</td><td>31</td><td>300</td></tr>\n",
              "\t<tr><th scope=row>68</th><td> 67</td><td>Gourmet Ice Cream Cakes by Baskin Robbins      </td><td>4.6</td><td>35</td><td>250</td></tr>\n",
              "\t<tr><th scope=row>97</th><td> 96</td><td>Grameen Kulfi                                  </td><td>4.5</td><td>35</td><td>120</td></tr>\n",
              "\t<tr><th scope=row>98</th><td> 97</td><td>The Brooklyn Creamery - Healthy Ice Cream      </td><td>4.5</td><td>34</td><td>200</td></tr>\n",
              "\t<tr><th scope=row>101</th><td>100</td><td>NIC Natural Ice Creams                         </td><td>4.5</td><td>35</td><td>120</td></tr>\n",
              "\t<tr><th scope=row>103</th><td>102</td><td>Made of Milk                                   </td><td>4.5</td><td>39</td><td>350</td></tr>\n",
              "\t<tr><th scope=row>153</th><td>152</td><td>NOTO - Healthy Ice Cream                       </td><td>4.4</td><td>36</td><td>300</td></tr>\n",
              "\t<tr><th scope=row>173</th><td>172</td><td>Myfroyoland                                    </td><td>4.4</td><td>35</td><td>400</td></tr>\n",
              "\t<tr><th scope=row>183</th><td>182</td><td>Baskin Robbins                                 </td><td>4.4</td><td>31</td><td>250</td></tr>\n",
              "\t<tr><th scope=row>264</th><td>263</td><td>JOSHH - India Ka Apna Taste                    </td><td>4.3</td><td>38</td><td>200</td></tr>\n",
              "\t<tr><th scope=row>454</th><td>453</td><td>The Sugar Free Keto Kafe - By Artinci          </td><td>4.0</td><td>38</td><td>200</td></tr>\n",
              "</tbody>\n",
              "</table>\n"
            ],
            "text/markdown": "\nA data.frame: 13 × 5\n\n| <!--/--> | X &lt;int&gt; | Name &lt;chr&gt; | Rating &lt;dbl&gt; | Delivery.time &lt;int&gt; | Cost &lt;int&gt; |\n|---|---|---|---|---|---|\n| 24 |  23 | Moussestruck                                    | 4.8 | 39 | 150 |\n| 43 |  42 | Kwality Walls Frozen Dessert and Ice Cream Shop | 4.7 | 35 | 100 |\n| 67 |  66 | Keventers Ice Cream                             | 4.6 | 31 | 300 |\n| 68 |  67 | Gourmet Ice Cream Cakes by Baskin Robbins       | 4.6 | 35 | 250 |\n| 97 |  96 | Grameen Kulfi                                   | 4.5 | 35 | 120 |\n| 98 |  97 | The Brooklyn Creamery - Healthy Ice Cream       | 4.5 | 34 | 200 |\n| 101 | 100 | NIC Natural Ice Creams                          | 4.5 | 35 | 120 |\n| 103 | 102 | Made of Milk                                    | 4.5 | 39 | 350 |\n| 153 | 152 | NOTO - Healthy Ice Cream                        | 4.4 | 36 | 300 |\n| 173 | 172 | Myfroyoland                                     | 4.4 | 35 | 400 |\n| 183 | 182 | Baskin Robbins                                  | 4.4 | 31 | 250 |\n| 264 | 263 | JOSHH - India Ka Apna Taste                     | 4.3 | 38 | 200 |\n| 454 | 453 | The Sugar Free Keto Kafe - By Artinci           | 4.0 | 38 | 200 |\n\n",
            "text/latex": "A data.frame: 13 × 5\n\\begin{tabular}{r|lllll}\n  & X & Name & Rating & Delivery.time & Cost\\\\\n  & <int> & <chr> & <dbl> & <int> & <int>\\\\\n\\hline\n\t24 &  23 & Moussestruck                                    & 4.8 & 39 & 150\\\\\n\t43 &  42 & Kwality Walls Frozen Dessert and Ice Cream Shop & 4.7 & 35 & 100\\\\\n\t67 &  66 & Keventers Ice Cream                             & 4.6 & 31 & 300\\\\\n\t68 &  67 & Gourmet Ice Cream Cakes by Baskin Robbins       & 4.6 & 35 & 250\\\\\n\t97 &  96 & Grameen Kulfi                                   & 4.5 & 35 & 120\\\\\n\t98 &  97 & The Brooklyn Creamery - Healthy Ice Cream       & 4.5 & 34 & 200\\\\\n\t101 & 100 & NIC Natural Ice Creams                          & 4.5 & 35 & 120\\\\\n\t103 & 102 & Made of Milk                                    & 4.5 & 39 & 350\\\\\n\t153 & 152 & NOTO - Healthy Ice Cream                        & 4.4 & 36 & 300\\\\\n\t173 & 172 & Myfroyoland                                     & 4.4 & 35 & 400\\\\\n\t183 & 182 & Baskin Robbins                                  & 4.4 & 31 & 250\\\\\n\t264 & 263 & JOSHH - India Ka Apna Taste                     & 4.3 & 38 & 200\\\\\n\t454 & 453 & The Sugar Free Keto Kafe - By Artinci           & 4.0 & 38 & 200\\\\\n\\end{tabular}\n",
            "text/plain": [
              "    X   Name                                            Rating Delivery.time\n",
              "24   23 Moussestruck                                    4.8    39           \n",
              "43   42 Kwality Walls Frozen Dessert and Ice Cream Shop 4.7    35           \n",
              "67   66 Keventers Ice Cream                             4.6    31           \n",
              "68   67 Gourmet Ice Cream Cakes by Baskin Robbins       4.6    35           \n",
              "97   96 Grameen Kulfi                                   4.5    35           \n",
              "98   97 The Brooklyn Creamery - Healthy Ice Cream       4.5    34           \n",
              "101 100 NIC Natural Ice Creams                          4.5    35           \n",
              "103 102 Made of Milk                                    4.5    39           \n",
              "153 152 NOTO - Healthy Ice Cream                        4.4    36           \n",
              "173 172 Myfroyoland                                     4.4    35           \n",
              "183 182 Baskin Robbins                                  4.4    31           \n",
              "264 263 JOSHH - India Ka Apna Taste                     4.3    38           \n",
              "454 453 The Sugar Free Keto Kafe - By Artinci           4.0    38           \n",
              "    Cost\n",
              "24  150 \n",
              "43  100 \n",
              "67  300 \n",
              "68  250 \n",
              "97  120 \n",
              "98  200 \n",
              "101 120 \n",
              "103 350 \n",
              "153 300 \n",
              "173 400 \n",
              "183 250 \n",
              "264 200 \n",
              "454 200 "
            ]
          },
          "metadata": {}
        }
      ]
    },
    {
      "cell_type": "code",
      "source": [
        "decision_matrix <- mydata[, c(\"Rating\", \"Delivery.time\", \"Cost\")] # Excluded X and Name columns as it does not contribute to anything\n",
        "\n",
        "decision_matrix <- as.matrix(decision_matrix) # Converting the data frame into matrix form\n",
        "\n",
        "i <- c(\"+\", \"-\", \"-\")  # impacts\n",
        "w <- c(1, 1, 1)  # weights\n",
        "\n",
        "result <- topsis(decision_matrix, w, i)\n",
        "\n",
        "result <- cbind(mydata[, c(\"X\", \"Name\")], result)\n",
        "\n",
        "result # Rank 1 is the best place"
      ],
      "metadata": {
        "colab": {
          "base_uri": "https://localhost:8080/",
          "height": 505
        },
        "id": "vmlm2Ir1TAi4",
        "outputId": "918284c9-ca32-4fa4-a4ea-97ed4eb6c0f1"
      },
      "execution_count": 51,
      "outputs": [
        {
          "output_type": "display_data",
          "data": {
            "text/html": [
              "<table class=\"dataframe\">\n",
              "<caption>A data.frame: 13 × 5</caption>\n",
              "<thead>\n",
              "\t<tr><th></th><th scope=col>X</th><th scope=col>Name</th><th scope=col>alt.row</th><th scope=col>score</th><th scope=col>rank</th></tr>\n",
              "\t<tr><th></th><th scope=col>&lt;int&gt;</th><th scope=col>&lt;chr&gt;</th><th scope=col>&lt;int&gt;</th><th scope=col>&lt;dbl&gt;</th><th scope=col>&lt;dbl&gt;</th></tr>\n",
              "</thead>\n",
              "<tbody>\n",
              "\t<tr><th scope=row>24</th><td> 23</td><td>Moussestruck                                   </td><td> 1</td><td>0.7739114</td><td> 4.0</td></tr>\n",
              "\t<tr><th scope=row>43</th><td> 42</td><td>Kwality Walls Frozen Dessert and Ice Cream Shop</td><td> 2</td><td>0.9158565</td><td> 1.0</td></tr>\n",
              "\t<tr><th scope=row>67</th><td> 66</td><td>Keventers Ice Cream                            </td><td> 3</td><td>0.3718209</td><td>10.0</td></tr>\n",
              "\t<tr><th scope=row>68</th><td> 67</td><td>Gourmet Ice Cream Cakes by Baskin Robbins      </td><td> 4</td><td>0.5049428</td><td> 9.0</td></tr>\n",
              "\t<tr><th scope=row>97</th><td> 96</td><td>Grameen Kulfi                                  </td><td> 5</td><td>0.8825861</td><td> 2.5</td></tr>\n",
              "\t<tr><th scope=row>98</th><td> 97</td><td>The Brooklyn Creamery - Healthy Ice Cream      </td><td> 6</td><td>0.6644612</td><td> 5.0</td></tr>\n",
              "\t<tr><th scope=row>101</th><td>100</td><td>NIC Natural Ice Creams                         </td><td> 7</td><td>0.8825861</td><td> 2.5</td></tr>\n",
              "\t<tr><th scope=row>103</th><td>102</td><td>Made of Milk                                   </td><td> 8</td><td>0.1815645</td><td>12.0</td></tr>\n",
              "\t<tr><th scope=row>153</th><td>152</td><td>NOTO - Healthy Ice Cream                       </td><td> 9</td><td>0.3383824</td><td>11.0</td></tr>\n",
              "\t<tr><th scope=row>173</th><td>172</td><td>Myfroyoland                                    </td><td>10</td><td>0.1036586</td><td>13.0</td></tr>\n",
              "\t<tr><th scope=row>183</th><td>182</td><td>Baskin Robbins                                 </td><td>11</td><td>0.5153140</td><td> 8.0</td></tr>\n",
              "\t<tr><th scope=row>264</th><td>263</td><td>JOSHH - India Ka Apna Taste                    </td><td>12</td><td>0.6375445</td><td> 6.0</td></tr>\n",
              "\t<tr><th scope=row>454</th><td>453</td><td>The Sugar Free Keto Kafe - By Artinci          </td><td>13</td><td>0.6269556</td><td> 7.0</td></tr>\n",
              "</tbody>\n",
              "</table>\n"
            ],
            "text/markdown": "\nA data.frame: 13 × 5\n\n| <!--/--> | X &lt;int&gt; | Name &lt;chr&gt; | alt.row &lt;int&gt; | score &lt;dbl&gt; | rank &lt;dbl&gt; |\n|---|---|---|---|---|---|\n| 24 |  23 | Moussestruck                                    |  1 | 0.7739114 |  4.0 |\n| 43 |  42 | Kwality Walls Frozen Dessert and Ice Cream Shop |  2 | 0.9158565 |  1.0 |\n| 67 |  66 | Keventers Ice Cream                             |  3 | 0.3718209 | 10.0 |\n| 68 |  67 | Gourmet Ice Cream Cakes by Baskin Robbins       |  4 | 0.5049428 |  9.0 |\n| 97 |  96 | Grameen Kulfi                                   |  5 | 0.8825861 |  2.5 |\n| 98 |  97 | The Brooklyn Creamery - Healthy Ice Cream       |  6 | 0.6644612 |  5.0 |\n| 101 | 100 | NIC Natural Ice Creams                          |  7 | 0.8825861 |  2.5 |\n| 103 | 102 | Made of Milk                                    |  8 | 0.1815645 | 12.0 |\n| 153 | 152 | NOTO - Healthy Ice Cream                        |  9 | 0.3383824 | 11.0 |\n| 173 | 172 | Myfroyoland                                     | 10 | 0.1036586 | 13.0 |\n| 183 | 182 | Baskin Robbins                                  | 11 | 0.5153140 |  8.0 |\n| 264 | 263 | JOSHH - India Ka Apna Taste                     | 12 | 0.6375445 |  6.0 |\n| 454 | 453 | The Sugar Free Keto Kafe - By Artinci           | 13 | 0.6269556 |  7.0 |\n\n",
            "text/latex": "A data.frame: 13 × 5\n\\begin{tabular}{r|lllll}\n  & X & Name & alt.row & score & rank\\\\\n  & <int> & <chr> & <int> & <dbl> & <dbl>\\\\\n\\hline\n\t24 &  23 & Moussestruck                                    &  1 & 0.7739114 &  4.0\\\\\n\t43 &  42 & Kwality Walls Frozen Dessert and Ice Cream Shop &  2 & 0.9158565 &  1.0\\\\\n\t67 &  66 & Keventers Ice Cream                             &  3 & 0.3718209 & 10.0\\\\\n\t68 &  67 & Gourmet Ice Cream Cakes by Baskin Robbins       &  4 & 0.5049428 &  9.0\\\\\n\t97 &  96 & Grameen Kulfi                                   &  5 & 0.8825861 &  2.5\\\\\n\t98 &  97 & The Brooklyn Creamery - Healthy Ice Cream       &  6 & 0.6644612 &  5.0\\\\\n\t101 & 100 & NIC Natural Ice Creams                          &  7 & 0.8825861 &  2.5\\\\\n\t103 & 102 & Made of Milk                                    &  8 & 0.1815645 & 12.0\\\\\n\t153 & 152 & NOTO - Healthy Ice Cream                        &  9 & 0.3383824 & 11.0\\\\\n\t173 & 172 & Myfroyoland                                     & 10 & 0.1036586 & 13.0\\\\\n\t183 & 182 & Baskin Robbins                                  & 11 & 0.5153140 &  8.0\\\\\n\t264 & 263 & JOSHH - India Ka Apna Taste                     & 12 & 0.6375445 &  6.0\\\\\n\t454 & 453 & The Sugar Free Keto Kafe - By Artinci           & 13 & 0.6269556 &  7.0\\\\\n\\end{tabular}\n",
            "text/plain": [
              "    X   Name                                            alt.row score     rank\n",
              "24   23 Moussestruck                                     1      0.7739114  4.0\n",
              "43   42 Kwality Walls Frozen Dessert and Ice Cream Shop  2      0.9158565  1.0\n",
              "67   66 Keventers Ice Cream                              3      0.3718209 10.0\n",
              "68   67 Gourmet Ice Cream Cakes by Baskin Robbins        4      0.5049428  9.0\n",
              "97   96 Grameen Kulfi                                    5      0.8825861  2.5\n",
              "98   97 The Brooklyn Creamery - Healthy Ice Cream        6      0.6644612  5.0\n",
              "101 100 NIC Natural Ice Creams                           7      0.8825861  2.5\n",
              "103 102 Made of Milk                                     8      0.1815645 12.0\n",
              "153 152 NOTO - Healthy Ice Cream                         9      0.3383824 11.0\n",
              "173 172 Myfroyoland                                     10      0.1036586 13.0\n",
              "183 182 Baskin Robbins                                  11      0.5153140  8.0\n",
              "264 263 JOSHH - India Ka Apna Taste                     12      0.6375445  6.0\n",
              "454 453 The Sugar Free Keto Kafe - By Artinci           13      0.6269556  7.0"
            ]
          },
          "metadata": {}
        }
      ]
    }
  ]
}